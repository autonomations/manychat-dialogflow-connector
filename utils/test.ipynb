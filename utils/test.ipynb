{
 "cells": [
  {
   "cell_type": "code",
   "execution_count": 26,
   "metadata": {},
   "outputs": [],
   "source": [
    "import manychat_helpers, dialogflow_helpers\n",
    "import json\n",
    "import requests"
   ]
  },
  {
   "cell_type": "code",
   "execution_count": 35,
   "metadata": {},
   "outputs": [],
   "source": [
    "base_url = 'https://dialogflow.cloud.google.com/v1/integrations/messenger/webhook'\n",
    "\n",
    "api_key = '107029100963432:4bf8fbdfbc5993907ea36dd8ba0c0b0a'\n",
    "psid    = '5220826191261652'\n",
    "project_id= \"rl-agent-v0-1-myia\",\n",
    "agent_id= \"bf83dfc5-434f-469a-890e-6ac3db6e8da3\"\n",
    "\n",
    "input_text = \"buy pizza\"\n",
    "context    = 'buy_pizza'\n",
    "language   = 'English'\n",
    "language_code = 'en'"
   ]
  },
  {
   "cell_type": "code",
   "execution_count": 51,
   "metadata": {},
   "outputs": [
    {
     "name": "stdout",
     "output_type": "stream",
     "text": [
      "\n",
      "{\n",
      "  \"responseId\": \"badfc1e4-1f0f-4fb1-a0ac-1206e36339bf-36f35620\",\n",
      "  \"queryResult\": {\n",
      "    \"queryText\": \"buy pizza\",\n",
      "    \"action\": \"toppings\",\n",
      "    \"parameters\": {\n",
      "      \"meat\": \"meat\",\n",
      "      \"pepperoni\": \"pepperoni\",\n",
      "      \"cheese\": \"cheese\"\n",
      "    },\n",
      "    \"allRequiredParamsPresent\": true,\n",
      "    \"fulfillmentText\": \"Great!  Bringing up the pizza flow\",\n",
      "    \"fulfillmentMessages\": [{\n",
      "      \"text\": {\n",
      "        \"text\": [\"Great!  Bringing up the pizza flow\"]\n",
      "      }\n",
      "    }, {\n",
      "      \"payload\": {\n",
      "        \"flow\": \"content20220619040809_695482\"\n",
      "      }\n",
      "    }],\n",
      "    \"outputContexts\": [{\n",
      "      \"name\": \"projects/rl-agent-v0-1-myia/agent/sessions/5220826191261652/contexts/buy_pizza\",\n",
      "      \"lifespanCount\": 5,\n",
      "      \"parameters\": {\n",
      "        \"cheese\": \"cheese\",\n",
      "        \"pepperoni.original\": \"\",\n",
      "        \"meat.original\": \"\",\n",
      "        \"pepperoni\": \"pepperoni\",\n",
      "        \"meat\": \"meat\",\n",
      "        \"cheese.original\": \"\"\n",
      "      }\n",
      "    }],\n",
      "    \"intent\": {\n",
      "      \"name\": \"projects/rl-agent-v0-1-myia/agent/intents/38769ec7-f652-48ab-b437-06e31e5dd3c8\",\n",
      "      \"displayName\": \"buy_pizza\"\n",
      "    },\n",
      "    \"intentDetectionConfidence\": 1.0,\n",
      "    \"languageCode\": \"en\"\n",
      "  },\n",
      "  \"agentId\": \"bf83dfc5-434f-469a-890e-6ac3db6e8da3\"\n",
      "}\n"
     ]
    }
   ],
   "source": [
    "response = lambda: None                        # Anonymous function\n",
    "response.messages = []\n",
    "response.parameters = []\n",
    "\n",
    "data = {\n",
    "    'queryInput': {\n",
    "        'text': {\n",
    "            'text': input_text,                      # Payload of TEXT\n",
    "            'languageCode': language_code,\n",
    "        }\n",
    "    },\n",
    "}\n",
    "\n",
    "if context:                                    # Add the context, if necessary\n",
    "    data['queryParams'] = {\n",
    "        'contexts': [\n",
    "            {\n",
    "                'name': f'projects/{project_id}/agent/sessions/{psid}/contexts/{context}',\n",
    "                'lifespanCount': 1,\n",
    "            }\n",
    "        ]\n",
    "    }\n",
    "\n",
    "df_response = requests.post(                   # Post to dialog flow webhook base / agent / session_id (manychat psid) / location\n",
    "    url=f'{base_url}/{agent_id}/sessions/{psid}?platform=webdemo',\n",
    "    data=json.dumps(data),\n",
    ")\n",
    "\n",
    "\n",
    "clean_response = df_response.text.replace(\")]}'\", \"\")   # Replace all )]}' for nothing\n",
    "print(clean_response)\n",
    "# results = json.loads(clean_response)\n",
    "# print(json.dumps(results, indent=4, sort_keys=True))"
   ]
  },
  {
   "cell_type": "markdown",
   "metadata": {},
   "source": [
    "## Manychat Helper"
   ]
  },
  {
   "cell_type": "markdown",
   "metadata": {},
   "source": [
    "Get info and send content"
   ]
  },
  {
   "cell_type": "code",
   "execution_count": 30,
   "metadata": {},
   "outputs": [],
   "source": [
    "mc = manychat_helpers.ManyChatAPI(     # Init manychat object\n",
    "    api_key= api_key,\n",
    "    psid=psid,\n",
    ")\n",
    "\n",
    "mc.get_user_info()"
   ]
  },
  {
   "cell_type": "code",
   "execution_count": 32,
   "metadata": {},
   "outputs": [
    {
     "data": {
      "text/plain": [
       "{'status': 'success'}"
      ]
     },
     "execution_count": 32,
     "metadata": {},
     "output_type": "execute_result"
    }
   ],
   "source": [
    "content = ['message 5', 'message 6']\n",
    "mc.send_content(messages=content)"
   ]
  },
  {
   "cell_type": "code",
   "execution_count": 56,
   "metadata": {},
   "outputs": [
    {
     "name": "stdout",
     "output_type": "stream",
     "text": [
      "True\n",
      "False\n"
     ]
    }
   ],
   "source": [
    "my_dict = {'name': 'Alice', 'age': 30}\n",
    "no_dict = {}\n",
    "# if hasattr(my_dict, 'values'):\n",
    "#     print(my_dict.values())  # 👉️ dict_values(['Alice', 30])\n",
    "# else:\n",
    "#     print('Attribute not present in object')\n",
    "\n",
    "print(bool(my_dict))\n",
    "print(bool(no_dict))"
   ]
  },
  {
   "cell_type": "markdown",
   "metadata": {},
   "source": [
    "## Dialogflow Sample"
   ]
  },
  {
   "cell_type": "code",
   "execution_count": 37,
   "metadata": {},
   "outputs": [
    {
     "name": "stdout",
     "output_type": "stream",
     "text": [
      ")]}'\n",
      "{\n",
      "  \"responseId\": \"2e26fc0c-688d-4768-8b47-5d5d65fdbd3d-36f35620\",\n",
      "  \"queryResult\": {\n",
      "    \"queryText\": \"buy pizza\",\n",
      "    \"action\": \"toppings\",\n",
      "    \"parameters\": {\n",
      "      \"topping\": \"cheese\"\n",
      "    },\n",
      "    \"allRequiredParamsPresent\": true,\n",
      "    \"fulfillmentText\": \"Great!  Bringing up the pizza flow\",\n",
      "    \"fulfillmentMessages\": [{\n",
      "      \"text\": {\n",
      "        \"text\": [\"Great!  Bringing up the pizza flow\"]\n",
      "      }\n",
      "    }, {\n",
      "      \"payload\": {\n",
      "        \"flow\": \"content20220619040809_695482\"\n",
      "      }\n",
      "    }],\n",
      "    \"outputContexts\": [{\n",
      "      \"name\": \"projects/rl-agent-v0-1-myia/agent/sessions/5220826191261652/contexts/buy_pizza\",\n",
      "      \"lifespanCount\": 5,\n",
      "      \"parameters\": {\n",
      "        \"topping\": \"cheese\",\n",
      "        \"topping.original\": \"\"\n",
      "      }\n",
      "    }],\n",
      "    \"intent\": {\n",
      "      \"name\": \"projects/rl-agent-v0-1-myia/agent/intents/38769ec7-f652-48ab-b437-06e31e5dd3c8\",\n",
      "      \"displayName\": \"buy_pizza\"\n",
      "    },\n",
      "    \"intentDetectionConfidence\": 1.0,\n",
      "    \"languageCode\": \"en\"\n",
      "  },\n",
      "  \"agentId\": \"bf83dfc5-434f-469a-890e-6ac3db6e8da3\"\n",
      "}\n"
     ]
    }
   ],
   "source": [
    "\n",
    "response = lambda: None                        # Anonymous function\n",
    "response.messages = []\n",
    "response.parameters = []\n",
    "\n",
    "data = {\n",
    "    'queryInput': {\n",
    "        'text': {\n",
    "            'text': input_text,                      # Payload of TEXT\n",
    "            'languageCode': language_code,\n",
    "        }\n",
    "    },\n",
    "}\n",
    "\n",
    "# if context:                                    # Add the context, if necessary\n",
    "#     data['queryParams'] = {\n",
    "#         'contexts': [\n",
    "#             {\n",
    "#                 'name': f'projects/{project_id}/agent/sessions/{psid}/contexts/{context}',\n",
    "#                 'lifespanCount': 1,\n",
    "#             }\n",
    "#         ]\n",
    "#     }\n",
    "\n",
    "df_response = requests.post(                   # Post to dialog flow webhook base / agent / session_id (manychat psid) / location\n",
    "    url=f'{base_url}/{agent_id}/sessions/{psid}?platform=webdemo',\n",
    "    data=json.dumps(data),\n",
    ")\n",
    "\n",
    "print(df_response.text)\n",
    "# clean_response = df_response.text.replace(\")]}'\", \"\")   # Replace all )]}' for nothing\n",
    "\n",
    "# results = json.loads(clean_response)\n",
    "# print(json.dumps(results, indent=4, sort_keys=True))"
   ]
  },
  {
   "cell_type": "code",
   "execution_count": 47,
   "metadata": {},
   "outputs": [],
   "source": [
    "import json\n",
    "from dataclasses import dataclass\n",
    "\n",
    "import requests\n",
    "\n",
    "\n",
    "@dataclass\n",
    "class DialogFlowAPI:   # Dialogflow API\n",
    "    project_id: str    # Get the dialogflow project, agent, base\n",
    "    agent_id: str\n",
    "    base_url = 'https://dialogflow.cloud.google.com/v1/integrations/messenger/webhook'\n",
    "\n",
    "    def detect_intent(self, \n",
    "                      session_id: str, \n",
    "                      text: str, \n",
    "                      language_code: str = 'en', \n",
    "                      context: str = None):\n",
    "        \n",
    "        response = lambda: None                        # Anonymous function\n",
    "        response.messages = []\n",
    "        response.parameters = []\n",
    "\n",
    "        data = {\n",
    "            'queryInput': {\n",
    "                'text': {\n",
    "                    'text': text,                      # Payload of TEXT\n",
    "                    'languageCode': language_code,\n",
    "                }\n",
    "            },\n",
    "        }\n",
    "\n",
    "        if context:                                    # Add the context, if necessary\n",
    "            data['queryParams'] = {\n",
    "                'contexts': [\n",
    "                    {\n",
    "                        'name': f'projects/{self.project_id}/agent/sessions/{session_id}/contexts/{context}',\n",
    "                        'lifespanCount': 1,\n",
    "                    }\n",
    "                ]\n",
    "            }\n",
    "\n",
    "        df_response = requests.post(                   # Post to dialog flow webhook base / agent / session_id (manychat psid) / location\n",
    "            url=f'{self.base_url}/{self.agent_id}/sessions/{session_id}?platform=webdemo',\n",
    "            data=json.dumps(data),\n",
    "        )\n",
    "\n",
    "        clean_response = df_response.text.replace(\")]}'\", \"\")   # Replace all )]}' for nothing\n",
    "\n",
    "        results = json.loads(clean_response)\n",
    "        print(json.dumps(results, indent=4, sort_keys=True))\n",
    "\n",
    "        if 'knowledgeAnswers' in results['queryResult']:\n",
    "            if results['queryResult']['knowledgeAnswers']['answers']:\n",
    "                response.messages.append(\n",
    "                    {\n",
    "                        'type': 'text',\n",
    "                        'message': results['queryResult']['knowledgeAnswers']['answers'][0]['answer'],\n",
    "                    }\n",
    "                )\n",
    "\n",
    "        \n",
    "        if 'fulfillmentMessages' in results['queryResult']:\n",
    "            for message in results['queryResult']['fulfillmentMessages']:  # Now that we already have our message\n",
    "                if 'text' in message:\n",
    "                    if message['text']['text'][0].startswith('flow:'):\n",
    "                        response.messages.append(\n",
    "                            {\n",
    "                                'type': 'flow',\n",
    "                                'flow': message['text']['text'][0].replace('flow:', '').strip()\n",
    "                            }\n",
    "                        )\n",
    "\n",
    "                    else:\n",
    "                        response.messages.append(\n",
    "                            {\n",
    "                                'type': 'text',\n",
    "                                'message': message['text']['text'][0]\n",
    "                            }\n",
    "                        )\n",
    "\n",
    "            \n",
    "                elif 'payload' in message: \n",
    "                    if 'flow' in message['payload']:    \n",
    "                        response.messages.append(           # keep the payload style for previous compatibility\n",
    "                            {\n",
    "                                'type': 'flow',\n",
    "                                'flow': message['payload']['flow']\n",
    "                            }\n",
    "                        )\n",
    "\n",
    "        if 'parameters' in results['queryResult']:          # copy the parameters \n",
    "            for key, value in results['queryResult']['parameters'].items():\n",
    "                if key == 'date-period':\n",
    "                    response.parameters += [\n",
    "                        {\n",
    "                            'startDate': value[0]['startDate']  \n",
    "                        },\n",
    "                        {\n",
    "                            'endDate': value[0]['endDate']\n",
    "                        }\n",
    "                    ]\n",
    "\n",
    "                else:\n",
    "                    response.parameters.append(\n",
    "                        {\n",
    "                            key: value\n",
    "                        }\n",
    "                    )\n",
    "\n",
    "        return results\n"
   ]
  },
  {
   "cell_type": "code",
   "execution_count": 48,
   "metadata": {},
   "outputs": [],
   "source": [
    "df = dialogflow_helpers.DialogFlowAPI(  # Init a dialogflow object\n",
    "    project_id= project_id,\n",
    "    agent_id= agent_id\n",
    ")"
   ]
  },
  {
   "cell_type": "code",
   "execution_count": 49,
   "metadata": {},
   "outputs": [
    {
     "name": "stdout",
     "output_type": "stream",
     "text": [
      "{\n",
      "    \"agentId\": \"bf83dfc5-434f-469a-890e-6ac3db6e8da3\",\n",
      "    \"queryResult\": {\n",
      "        \"action\": \"toppings\",\n",
      "        \"allRequiredParamsPresent\": true,\n",
      "        \"fulfillmentMessages\": [\n",
      "            {\n",
      "                \"text\": {\n",
      "                    \"text\": [\n",
      "                        \"Great!  Bringing up the pizza flow\"\n",
      "                    ]\n",
      "                }\n",
      "            },\n",
      "            {\n",
      "                \"payload\": {\n",
      "                    \"flow\": \"content20220619040809_695482\"\n",
      "                }\n",
      "            }\n",
      "        ],\n",
      "        \"fulfillmentText\": \"Great!  Bringing up the pizza flow\",\n",
      "        \"intent\": {\n",
      "            \"displayName\": \"buy_pizza\",\n",
      "            \"name\": \"projects/rl-agent-v0-1-myia/agent/intents/38769ec7-f652-48ab-b437-06e31e5dd3c8\"\n",
      "        },\n",
      "        \"intentDetectionConfidence\": 1.0,\n",
      "        \"languageCode\": \"en\",\n",
      "        \"outputContexts\": [\n",
      "            {\n",
      "                \"lifespanCount\": 5,\n",
      "                \"name\": \"projects/rl-agent-v0-1-myia/agent/sessions/5220826191261652/contexts/buy_pizza\",\n",
      "                \"parameters\": {\n",
      "                    \"cheese\": \"cheese\",\n",
      "                    \"cheese.original\": \"\",\n",
      "                    \"meat\": \"meat\",\n",
      "                    \"meat.original\": \"\",\n",
      "                    \"pepperoni\": \"pepperoni\",\n",
      "                    \"pepperoni.original\": \"\"\n",
      "                }\n",
      "            }\n",
      "        ],\n",
      "        \"parameters\": {\n",
      "            \"cheese\": \"cheese\",\n",
      "            \"meat\": \"meat\",\n",
      "            \"pepperoni\": \"pepperoni\"\n",
      "        },\n",
      "        \"queryText\": \"buy pizza\"\n",
      "    },\n",
      "    \"responseId\": \"fc870175-b15f-44d3-812d-5362553640ae-36f35620\"\n",
      "}\n"
     ]
    }
   ],
   "source": [
    "dialogflow_response = df.detect_intent(     # Using the agent and what it knows...\n",
    "    session_id=psid,                        # Run query to detect user's intent\n",
    "    text=input_text,\n",
    "    language_code=language,\n",
    "    context=context if context != '' else None\n",
    ")"
   ]
  },
  {
   "cell_type": "code",
   "execution_count": null,
   "metadata": {},
   "outputs": [],
   "source": [
    "for message in dialogflow_response.messages:   # for each message\n",
    "    if message['type'] == 'text':              # if type text, send message\n",
    "        print(message)\n",
    "        mc.send_content(\n",
    "            messages=[\n",
    "                message['message']\n",
    "            ]\n",
    "        )"
   ]
  },
  {
   "cell_type": "code",
   "execution_count": null,
   "metadata": {},
   "outputs": [],
   "source": []
  },
  {
   "cell_type": "markdown",
   "metadata": {},
   "source": [
    "## Google Cloud Dialogflow"
   ]
  },
  {
   "cell_type": "code",
   "execution_count": 41,
   "metadata": {},
   "outputs": [],
   "source": [
    "import google.cloud.dialogflow as dialogflow\n",
    "\n",
    "# from CONFIG import DIALOGFLOW_PROJECT_ID\n",
    "os.environ[\"GOOGLE_APPLICATION_CREDENTIALS\"] = 'credentials/dialogflow.json'"
   ]
  },
  {
   "cell_type": "code",
   "execution_count": 39,
   "metadata": {},
   "outputs": [],
   "source": [
    "def predict_intent(text, language):\n",
    "    session_client = dialogflow.SessionsClient()\n",
    "    session = session_client.session_path(project_id, psid)\n",
    "    text_input = dialogflow.TextInput(text=text, language_code=language)\n",
    "    query_input = dialogflow.QueryInput(text=text_input)\n",
    "    response = session_client.detect_intent(session=session, query_input=query_input)  # ERROR\n",
    "    return response.query_result.intent.display_name"
   ]
  },
  {
   "cell_type": "code",
   "execution_count": 43,
   "metadata": {},
   "outputs": [
    {
     "ename": "DefaultCredentialsError",
     "evalue": "Could not automatically determine credentials. Please set GOOGLE_APPLICATION_CREDENTIALS or explicitly create credentials and re-run the application. For more information, please see https://cloud.google.com/docs/authentication/getting-started",
     "output_type": "error",
     "traceback": [
      "\u001b[0;31m---------------------------------------------------------------------------\u001b[0m",
      "\u001b[0;31mDefaultCredentialsError\u001b[0m                   Traceback (most recent call last)",
      "\u001b[0;32m/var/folders/w0/z07p93y54bz2zqjzp7v4v4nm0000gn/T/ipykernel_2573/1672074981.py\u001b[0m in \u001b[0;36m<module>\u001b[0;34m\u001b[0m\n\u001b[0;32m----> 1\u001b[0;31m \u001b[0mpredict_intent\u001b[0m\u001b[0;34m(\u001b[0m\u001b[0;34m'buy pizza'\u001b[0m\u001b[0;34m,\u001b[0m \u001b[0;34m'en'\u001b[0m\u001b[0;34m)\u001b[0m\u001b[0;34m\u001b[0m\u001b[0;34m\u001b[0m\u001b[0m\n\u001b[0m",
      "\u001b[0;32m/var/folders/w0/z07p93y54bz2zqjzp7v4v4nm0000gn/T/ipykernel_2573/6364293.py\u001b[0m in \u001b[0;36mpredict_intent\u001b[0;34m(text, language)\u001b[0m\n\u001b[1;32m      1\u001b[0m \u001b[0;32mdef\u001b[0m \u001b[0mpredict_intent\u001b[0m\u001b[0;34m(\u001b[0m\u001b[0mtext\u001b[0m\u001b[0;34m,\u001b[0m \u001b[0mlanguage\u001b[0m\u001b[0;34m)\u001b[0m\u001b[0;34m:\u001b[0m\u001b[0;34m\u001b[0m\u001b[0;34m\u001b[0m\u001b[0m\n\u001b[0;32m----> 2\u001b[0;31m     \u001b[0msession_client\u001b[0m \u001b[0;34m=\u001b[0m \u001b[0mdialogflow\u001b[0m\u001b[0;34m.\u001b[0m\u001b[0mSessionsClient\u001b[0m\u001b[0;34m(\u001b[0m\u001b[0;34m)\u001b[0m\u001b[0;34m\u001b[0m\u001b[0;34m\u001b[0m\u001b[0m\n\u001b[0m\u001b[1;32m      3\u001b[0m     \u001b[0msession\u001b[0m \u001b[0;34m=\u001b[0m \u001b[0msession_client\u001b[0m\u001b[0;34m.\u001b[0m\u001b[0msession_path\u001b[0m\u001b[0;34m(\u001b[0m\u001b[0mproject_id\u001b[0m\u001b[0;34m,\u001b[0m \u001b[0mpsid\u001b[0m\u001b[0;34m)\u001b[0m\u001b[0;34m\u001b[0m\u001b[0;34m\u001b[0m\u001b[0m\n\u001b[1;32m      4\u001b[0m     \u001b[0mtext_input\u001b[0m \u001b[0;34m=\u001b[0m \u001b[0mdialogflow\u001b[0m\u001b[0;34m.\u001b[0m\u001b[0mTextInput\u001b[0m\u001b[0;34m(\u001b[0m\u001b[0mtext\u001b[0m\u001b[0;34m=\u001b[0m\u001b[0mtext\u001b[0m\u001b[0;34m,\u001b[0m \u001b[0mlanguage_code\u001b[0m\u001b[0;34m=\u001b[0m\u001b[0mlanguage\u001b[0m\u001b[0;34m)\u001b[0m\u001b[0;34m\u001b[0m\u001b[0;34m\u001b[0m\u001b[0m\n\u001b[1;32m      5\u001b[0m     \u001b[0mquery_input\u001b[0m \u001b[0;34m=\u001b[0m \u001b[0mdialogflow\u001b[0m\u001b[0;34m.\u001b[0m\u001b[0mQueryInput\u001b[0m\u001b[0;34m(\u001b[0m\u001b[0mtext\u001b[0m\u001b[0;34m=\u001b[0m\u001b[0mtext_input\u001b[0m\u001b[0;34m)\u001b[0m\u001b[0;34m\u001b[0m\u001b[0;34m\u001b[0m\u001b[0m\n",
      "\u001b[0;32m~/miniconda3/envs/py37/lib/python3.8/site-packages/google/cloud/dialogflow_v2/services/sessions/client.py\u001b[0m in \u001b[0;36m__init__\u001b[0;34m(self, credentials, transport, client_options, client_info)\u001b[0m\n\u001b[1;32m    488\u001b[0m \u001b[0;34m\u001b[0m\u001b[0m\n\u001b[1;32m    489\u001b[0m             \u001b[0mTransport\u001b[0m \u001b[0;34m=\u001b[0m \u001b[0mtype\u001b[0m\u001b[0;34m(\u001b[0m\u001b[0mself\u001b[0m\u001b[0;34m)\u001b[0m\u001b[0;34m.\u001b[0m\u001b[0mget_transport_class\u001b[0m\u001b[0;34m(\u001b[0m\u001b[0mtransport\u001b[0m\u001b[0;34m)\u001b[0m\u001b[0;34m\u001b[0m\u001b[0;34m\u001b[0m\u001b[0m\n\u001b[0;32m--> 490\u001b[0;31m             self._transport = Transport(\n\u001b[0m\u001b[1;32m    491\u001b[0m                 \u001b[0mcredentials\u001b[0m\u001b[0;34m=\u001b[0m\u001b[0mcredentials\u001b[0m\u001b[0;34m,\u001b[0m\u001b[0;34m\u001b[0m\u001b[0;34m\u001b[0m\u001b[0m\n\u001b[1;32m    492\u001b[0m                 \u001b[0mcredentials_file\u001b[0m\u001b[0;34m=\u001b[0m\u001b[0mclient_options\u001b[0m\u001b[0;34m.\u001b[0m\u001b[0mcredentials_file\u001b[0m\u001b[0;34m,\u001b[0m\u001b[0;34m\u001b[0m\u001b[0;34m\u001b[0m\u001b[0m\n",
      "\u001b[0;32m~/miniconda3/envs/py37/lib/python3.8/site-packages/google/cloud/dialogflow_v2/services/sessions/transports/grpc.py\u001b[0m in \u001b[0;36m__init__\u001b[0;34m(self, host, credentials, credentials_file, scopes, channel, api_mtls_endpoint, client_cert_source, ssl_channel_credentials, client_cert_source_for_mtls, quota_project_id, client_info, always_use_jwt_access)\u001b[0m\n\u001b[1;32m    150\u001b[0m \u001b[0;34m\u001b[0m\u001b[0m\n\u001b[1;32m    151\u001b[0m         \u001b[0;31m# The base transport sets the host, credentials and scopes\u001b[0m\u001b[0;34m\u001b[0m\u001b[0;34m\u001b[0m\u001b[0;34m\u001b[0m\u001b[0m\n\u001b[0;32m--> 152\u001b[0;31m         super().__init__(\n\u001b[0m\u001b[1;32m    153\u001b[0m             \u001b[0mhost\u001b[0m\u001b[0;34m=\u001b[0m\u001b[0mhost\u001b[0m\u001b[0;34m,\u001b[0m\u001b[0;34m\u001b[0m\u001b[0;34m\u001b[0m\u001b[0m\n\u001b[1;32m    154\u001b[0m             \u001b[0mcredentials\u001b[0m\u001b[0;34m=\u001b[0m\u001b[0mcredentials\u001b[0m\u001b[0;34m,\u001b[0m\u001b[0;34m\u001b[0m\u001b[0;34m\u001b[0m\u001b[0m\n",
      "\u001b[0;32m~/miniconda3/envs/py37/lib/python3.8/site-packages/google/cloud/dialogflow_v2/services/sessions/transports/base.py\u001b[0m in \u001b[0;36m__init__\u001b[0;34m(self, host, credentials, credentials_file, scopes, quota_project_id, client_info, always_use_jwt_access, **kwargs)\u001b[0m\n\u001b[1;32m    108\u001b[0m             )\n\u001b[1;32m    109\u001b[0m         \u001b[0;32melif\u001b[0m \u001b[0mcredentials\u001b[0m \u001b[0;32mis\u001b[0m \u001b[0;32mNone\u001b[0m\u001b[0;34m:\u001b[0m\u001b[0;34m\u001b[0m\u001b[0;34m\u001b[0m\u001b[0m\n\u001b[0;32m--> 110\u001b[0;31m             credentials, _ = google.auth.default(\n\u001b[0m\u001b[1;32m    111\u001b[0m                 \u001b[0;34m**\u001b[0m\u001b[0mscopes_kwargs\u001b[0m\u001b[0;34m,\u001b[0m \u001b[0mquota_project_id\u001b[0m\u001b[0;34m=\u001b[0m\u001b[0mquota_project_id\u001b[0m\u001b[0;34m\u001b[0m\u001b[0;34m\u001b[0m\u001b[0m\n\u001b[1;32m    112\u001b[0m             )\n",
      "\u001b[0;32m~/miniconda3/envs/py37/lib/python3.8/site-packages/google/auth/_default.py\u001b[0m in \u001b[0;36mdefault\u001b[0;34m(scopes, request, quota_project_id, default_scopes)\u001b[0m\n\u001b[1;32m    605\u001b[0m             \u001b[0;32mreturn\u001b[0m \u001b[0mcredentials\u001b[0m\u001b[0;34m,\u001b[0m \u001b[0meffective_project_id\u001b[0m\u001b[0;34m\u001b[0m\u001b[0;34m\u001b[0m\u001b[0m\n\u001b[1;32m    606\u001b[0m \u001b[0;34m\u001b[0m\u001b[0m\n\u001b[0;32m--> 607\u001b[0;31m     \u001b[0;32mraise\u001b[0m \u001b[0mexceptions\u001b[0m\u001b[0;34m.\u001b[0m\u001b[0mDefaultCredentialsError\u001b[0m\u001b[0;34m(\u001b[0m\u001b[0m_HELP_MESSAGE\u001b[0m\u001b[0;34m)\u001b[0m\u001b[0;34m\u001b[0m\u001b[0;34m\u001b[0m\u001b[0m\n\u001b[0m",
      "\u001b[0;31mDefaultCredentialsError\u001b[0m: Could not automatically determine credentials. Please set GOOGLE_APPLICATION_CREDENTIALS or explicitly create credentials and re-run the application. For more information, please see https://cloud.google.com/docs/authentication/getting-started"
     ]
    }
   ],
   "source": [
    "predict_intent('buy pizza', 'en')"
   ]
  },
  {
   "cell_type": "code",
   "execution_count": null,
   "metadata": {},
   "outputs": [],
   "source": []
  }
 ],
 "metadata": {
  "kernelspec": {
   "display_name": "Python 3.8.0 ('py37')",
   "language": "python",
   "name": "python3"
  },
  "language_info": {
   "codemirror_mode": {
    "name": "ipython",
    "version": 3
   },
   "file_extension": ".py",
   "mimetype": "text/x-python",
   "name": "python",
   "nbconvert_exporter": "python",
   "pygments_lexer": "ipython3",
   "version": "3.8.0"
  },
  "orig_nbformat": 4,
  "vscode": {
   "interpreter": {
    "hash": "d79b6e6e52702b4787212692ca2d8a248e0ebb1584332e2007ba7604dedd8897"
   }
  }
 },
 "nbformat": 4,
 "nbformat_minor": 2
}
