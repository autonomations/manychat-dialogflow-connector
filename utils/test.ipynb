{
 "cells": [
  {
   "cell_type": "markdown",
   "metadata": {},
   "source": [
    "### imports"
   ]
  },
  {
   "cell_type": "code",
   "execution_count": 5,
   "metadata": {},
   "outputs": [
    {
     "ename": "ImproperlyConfigured",
     "evalue": "HOUSTON_URL is not set\n\n--------------------------------------------------------------------------------\nPlease set HOUSTON_URL environment variable.\n\nFor local deployments: http://localhost:1969\n\n--------------------\n|  Windows syntax  |\n--------------------\n\nTo set the environment variable on Windows, run:\n\n    [Environment]::SetEnvironmentVariable(\"HOUSTON_URL\", \"http://localhost:1969\", \"User\")\n\nIMPORTANT: you must close and re-open PowerShell for the environment variable to take effect!\n\n--------------------\n|    Mac syntax    |\n--------------------\n\nTo set the environment variable on Mac, run:\n\n    touch ~/.profile\n    echo 'export HOUSTON_URL=http://localhost:1969' >> ~/.profile\n    source ~/.profile\n\n--------------------\n|   Linux syntax   |\n--------------------\n\nTo set the environment variable on Linux, run:\n\n    touch ~/.bashrc\n    echo 'export HOUSTON_URL=http://localhost:1969' >> ~/.bashrc\n    source ~/.bashrc\n",
     "output_type": "error",
     "traceback": [
      "\u001b[0;31m---------------------------------------------------------------------------\u001b[0m",
      "\u001b[0;31mImproperlyConfigured\u001b[0m                      Traceback (most recent call last)",
      "\u001b[0;32m/var/folders/w0/z07p93y54bz2zqjzp7v4v4nm0000gn/T/ipykernel_39709/545612600.py\u001b[0m in \u001b[0;36m<module>\u001b[0;34m\u001b[0m\n\u001b[1;32m      1\u001b[0m \u001b[0;32mfrom\u001b[0m \u001b[0mquantrocket\u001b[0m\u001b[0;34m.\u001b[0m\u001b[0mzipline\u001b[0m \u001b[0;32mimport\u001b[0m \u001b[0mlist_bundles\u001b[0m\u001b[0;34m\u001b[0m\u001b[0;34m\u001b[0m\u001b[0m\n\u001b[0;32m----> 2\u001b[0;31m \u001b[0mlist_bundles\u001b[0m\u001b[0;34m(\u001b[0m\u001b[0;34m)\u001b[0m\u001b[0;34m\u001b[0m\u001b[0;34m\u001b[0m\u001b[0m\n\u001b[0m",
      "\u001b[0;32m~/miniconda3/envs/py37/lib/python3.8/site-packages/quantrocket/zipline.py\u001b[0m in \u001b[0;36mlist_bundles\u001b[0;34m()\u001b[0m\n\u001b[1;32m    253\u001b[0m         data, False indicates config only)\n\u001b[1;32m    254\u001b[0m     \"\"\"\n\u001b[0;32m--> 255\u001b[0;31m     \u001b[0mresponse\u001b[0m \u001b[0;34m=\u001b[0m \u001b[0mhouston\u001b[0m\u001b[0;34m.\u001b[0m\u001b[0mget\u001b[0m\u001b[0;34m(\u001b[0m\u001b[0;34m\"/zipline/bundles\"\u001b[0m\u001b[0;34m)\u001b[0m\u001b[0;34m\u001b[0m\u001b[0;34m\u001b[0m\u001b[0m\n\u001b[0m\u001b[1;32m    256\u001b[0m \u001b[0;34m\u001b[0m\u001b[0m\n\u001b[1;32m    257\u001b[0m     \u001b[0mhouston\u001b[0m\u001b[0;34m.\u001b[0m\u001b[0mraise_for_status_with_json\u001b[0m\u001b[0;34m(\u001b[0m\u001b[0mresponse\u001b[0m\u001b[0;34m)\u001b[0m\u001b[0;34m\u001b[0m\u001b[0;34m\u001b[0m\u001b[0m\n",
      "\u001b[0;32m~/miniconda3/envs/py37/lib/python3.8/site-packages/requests/sessions.py\u001b[0m in \u001b[0;36mget\u001b[0;34m(self, url, **kwargs)\u001b[0m\n\u001b[1;32m    540\u001b[0m \u001b[0;34m\u001b[0m\u001b[0m\n\u001b[1;32m    541\u001b[0m         \u001b[0mkwargs\u001b[0m\u001b[0;34m.\u001b[0m\u001b[0msetdefault\u001b[0m\u001b[0;34m(\u001b[0m\u001b[0;34m'allow_redirects'\u001b[0m\u001b[0;34m,\u001b[0m \u001b[0;32mTrue\u001b[0m\u001b[0;34m)\u001b[0m\u001b[0;34m\u001b[0m\u001b[0;34m\u001b[0m\u001b[0m\n\u001b[0;32m--> 542\u001b[0;31m         \u001b[0;32mreturn\u001b[0m \u001b[0mself\u001b[0m\u001b[0;34m.\u001b[0m\u001b[0mrequest\u001b[0m\u001b[0;34m(\u001b[0m\u001b[0;34m'GET'\u001b[0m\u001b[0;34m,\u001b[0m \u001b[0murl\u001b[0m\u001b[0;34m,\u001b[0m \u001b[0;34m**\u001b[0m\u001b[0mkwargs\u001b[0m\u001b[0;34m)\u001b[0m\u001b[0;34m\u001b[0m\u001b[0;34m\u001b[0m\u001b[0m\n\u001b[0m\u001b[1;32m    543\u001b[0m \u001b[0;34m\u001b[0m\u001b[0m\n\u001b[1;32m    544\u001b[0m     \u001b[0;32mdef\u001b[0m \u001b[0moptions\u001b[0m\u001b[0;34m(\u001b[0m\u001b[0mself\u001b[0m\u001b[0;34m,\u001b[0m \u001b[0murl\u001b[0m\u001b[0;34m,\u001b[0m \u001b[0;34m**\u001b[0m\u001b[0mkwargs\u001b[0m\u001b[0;34m)\u001b[0m\u001b[0;34m:\u001b[0m\u001b[0;34m\u001b[0m\u001b[0;34m\u001b[0m\u001b[0m\n",
      "\u001b[0;32m~/miniconda3/envs/py37/lib/python3.8/site-packages/quantrocket/houston.py\u001b[0m in \u001b[0;36mrequest\u001b[0;34m(self, method, url, *args, **kwargs)\u001b[0m\n\u001b[1;32m    142\u001b[0m     \u001b[0;32mdef\u001b[0m \u001b[0mrequest\u001b[0m\u001b[0;34m(\u001b[0m\u001b[0mself\u001b[0m\u001b[0;34m,\u001b[0m \u001b[0mmethod\u001b[0m\u001b[0;34m,\u001b[0m \u001b[0murl\u001b[0m\u001b[0;34m,\u001b[0m \u001b[0;34m*\u001b[0m\u001b[0margs\u001b[0m\u001b[0;34m,\u001b[0m \u001b[0;34m**\u001b[0m\u001b[0mkwargs\u001b[0m\u001b[0;34m)\u001b[0m\u001b[0;34m:\u001b[0m\u001b[0;34m\u001b[0m\u001b[0;34m\u001b[0m\u001b[0m\n\u001b[1;32m    143\u001b[0m         \u001b[0;32mif\u001b[0m \u001b[0murl\u001b[0m\u001b[0;34m.\u001b[0m\u001b[0mstartswith\u001b[0m\u001b[0;34m(\u001b[0m\u001b[0;34m'/'\u001b[0m\u001b[0;34m)\u001b[0m\u001b[0;34m:\u001b[0m\u001b[0;34m\u001b[0m\u001b[0;34m\u001b[0m\u001b[0m\n\u001b[0;32m--> 144\u001b[0;31m             \u001b[0murl\u001b[0m \u001b[0;34m=\u001b[0m \u001b[0mself\u001b[0m\u001b[0;34m.\u001b[0m\u001b[0mbase_url\u001b[0m \u001b[0;34m+\u001b[0m \u001b[0murl\u001b[0m\u001b[0;34m\u001b[0m\u001b[0;34m\u001b[0m\u001b[0m\n\u001b[0m\u001b[1;32m    145\u001b[0m         \u001b[0mtimeout\u001b[0m \u001b[0;34m=\u001b[0m \u001b[0mkwargs\u001b[0m\u001b[0;34m.\u001b[0m\u001b[0mget\u001b[0m\u001b[0;34m(\u001b[0m\u001b[0;34m\"timeout\"\u001b[0m\u001b[0;34m,\u001b[0m \u001b[0;32mNone\u001b[0m\u001b[0;34m)\u001b[0m\u001b[0;34m\u001b[0m\u001b[0;34m\u001b[0m\u001b[0m\n\u001b[1;32m    146\u001b[0m         \u001b[0mstream\u001b[0m \u001b[0;34m=\u001b[0m \u001b[0mkwargs\u001b[0m\u001b[0;34m.\u001b[0m\u001b[0mget\u001b[0m\u001b[0;34m(\u001b[0m\u001b[0;34m\"stream\"\u001b[0m\u001b[0;34m,\u001b[0m \u001b[0;32mNone\u001b[0m\u001b[0;34m)\u001b[0m\u001b[0;34m\u001b[0m\u001b[0;34m\u001b[0m\u001b[0m\n",
      "\u001b[0;32m~/miniconda3/envs/py37/lib/python3.8/site-packages/quantrocket/houston.py\u001b[0m in \u001b[0;36mbase_url\u001b[0;34m(self)\u001b[0m\n\u001b[1;32m     93\u001b[0m     \u001b[0;32mdef\u001b[0m \u001b[0mbase_url\u001b[0m\u001b[0;34m(\u001b[0m\u001b[0mself\u001b[0m\u001b[0;34m)\u001b[0m\u001b[0;34m:\u001b[0m\u001b[0;34m\u001b[0m\u001b[0;34m\u001b[0m\u001b[0m\n\u001b[1;32m     94\u001b[0m         \u001b[0;32mif\u001b[0m \u001b[0mself\u001b[0m\u001b[0;34m.\u001b[0m\u001b[0m_base_url\u001b[0m \u001b[0;32mis\u001b[0m \u001b[0;32mNone\u001b[0m\u001b[0;34m:\u001b[0m\u001b[0;34m\u001b[0m\u001b[0;34m\u001b[0m\u001b[0m\n\u001b[0;32m---> 95\u001b[0;31m             raise ImproperlyConfigured(\"\"\"HOUSTON_URL is not set\n\u001b[0m\u001b[1;32m     96\u001b[0m \u001b[0;34m\u001b[0m\u001b[0m\n\u001b[1;32m     97\u001b[0m \u001b[0;34m-\u001b[0m\u001b[0;34m-\u001b[0m\u001b[0;34m-\u001b[0m\u001b[0;34m-\u001b[0m\u001b[0;34m-\u001b[0m\u001b[0;34m-\u001b[0m\u001b[0;34m-\u001b[0m\u001b[0;34m-\u001b[0m\u001b[0;34m-\u001b[0m\u001b[0;34m-\u001b[0m\u001b[0;34m-\u001b[0m\u001b[0;34m-\u001b[0m\u001b[0;34m-\u001b[0m\u001b[0;34m-\u001b[0m\u001b[0;34m-\u001b[0m\u001b[0;34m-\u001b[0m\u001b[0;34m-\u001b[0m\u001b[0;34m-\u001b[0m\u001b[0;34m-\u001b[0m\u001b[0;34m-\u001b[0m\u001b[0;34m-\u001b[0m\u001b[0;34m-\u001b[0m\u001b[0;34m-\u001b[0m\u001b[0;34m-\u001b[0m\u001b[0;34m-\u001b[0m\u001b[0;34m-\u001b[0m\u001b[0;34m-\u001b[0m\u001b[0;34m-\u001b[0m\u001b[0;34m-\u001b[0m\u001b[0;34m-\u001b[0m\u001b[0;34m-\u001b[0m\u001b[0;34m-\u001b[0m\u001b[0;34m-\u001b[0m\u001b[0;34m-\u001b[0m\u001b[0;34m-\u001b[0m\u001b[0;34m-\u001b[0m\u001b[0;34m-\u001b[0m\u001b[0;34m-\u001b[0m\u001b[0;34m-\u001b[0m\u001b[0;34m-\u001b[0m\u001b[0;34m-\u001b[0m\u001b[0;34m-\u001b[0m\u001b[0;34m-\u001b[0m\u001b[0;34m-\u001b[0m\u001b[0;34m-\u001b[0m\u001b[0;34m-\u001b[0m\u001b[0;34m-\u001b[0m\u001b[0;34m-\u001b[0m\u001b[0;34m-\u001b[0m\u001b[0;34m-\u001b[0m\u001b[0;34m-\u001b[0m\u001b[0;34m-\u001b[0m\u001b[0;34m-\u001b[0m\u001b[0;34m-\u001b[0m\u001b[0;34m-\u001b[0m\u001b[0;34m-\u001b[0m\u001b[0;34m-\u001b[0m\u001b[0;34m-\u001b[0m\u001b[0;34m-\u001b[0m\u001b[0;34m-\u001b[0m\u001b[0;34m-\u001b[0m\u001b[0;34m-\u001b[0m\u001b[0;34m-\u001b[0m\u001b[0;34m-\u001b[0m\u001b[0;34m-\u001b[0m\u001b[0;34m-\u001b[0m\u001b[0;34m-\u001b[0m\u001b[0;34m-\u001b[0m\u001b[0;34m-\u001b[0m\u001b[0;34m-\u001b[0m\u001b[0;34m-\u001b[0m\u001b[0;34m-\u001b[0m\u001b[0;34m-\u001b[0m\u001b[0;34m-\u001b[0m\u001b[0;34m-\u001b[0m\u001b[0;34m-\u001b[0m\u001b[0;34m-\u001b[0m\u001b[0;34m-\u001b[0m\u001b[0;34m-\u001b[0m\u001b[0;34m-\u001b[0m\u001b[0;34m\u001b[0m\u001b[0;34m\u001b[0m\u001b[0m\n",
      "\u001b[0;31mImproperlyConfigured\u001b[0m: HOUSTON_URL is not set\n\n--------------------------------------------------------------------------------\nPlease set HOUSTON_URL environment variable.\n\nFor local deployments: http://localhost:1969\n\n--------------------\n|  Windows syntax  |\n--------------------\n\nTo set the environment variable on Windows, run:\n\n    [Environment]::SetEnvironmentVariable(\"HOUSTON_URL\", \"http://localhost:1969\", \"User\")\n\nIMPORTANT: you must close and re-open PowerShell for the environment variable to take effect!\n\n--------------------\n|    Mac syntax    |\n--------------------\n\nTo set the environment variable on Mac, run:\n\n    touch ~/.profile\n    echo 'export HOUSTON_URL=http://localhost:1969' >> ~/.profile\n    source ~/.profile\n\n--------------------\n|   Linux syntax   |\n--------------------\n\nTo set the environment variable on Linux, run:\n\n    touch ~/.bashrc\n    echo 'export HOUSTON_URL=http://localhost:1969' >> ~/.bashrc\n    source ~/.bashrc\n"
     ]
    }
   ],
   "source": [
    "from quantrocket.zipline import list_bundles\n",
    "list_bundles()"
   ]
  },
  {
   "cell_type": "code",
   "execution_count": null,
   "metadata": {},
   "outputs": [],
   "source": [
    "yahoo_equities"
   ]
  },
  {
   "cell_type": "code",
   "execution_count": 2,
   "metadata": {},
   "outputs": [],
   "source": [
    "import manychat_helpers, dialogflow_helpers\n",
    "import json\n",
    "import requests"
   ]
  },
  {
   "cell_type": "code",
   "execution_count": 3,
   "metadata": {},
   "outputs": [
    {
     "ename": "SyntaxError",
     "evalue": "invalid syntax (156894445.py, line 5)",
     "output_type": "error",
     "traceback": [
      "\u001b[0;36m  File \u001b[0;32m\"/var/folders/w0/z07p93y54bz2zqjzp7v4v4nm0000gn/T/ipykernel_7795/156894445.py\"\u001b[0;36m, line \u001b[0;32m5\u001b[0m\n\u001b[0;31m    psid    =\u001b[0m\n\u001b[0m    ^\u001b[0m\n\u001b[0;31mSyntaxError\u001b[0m\u001b[0;31m:\u001b[0m invalid syntax\n"
     ]
    }
   ],
   "source": [
    "import manychat_helpers\n",
    "\n",
    "mc = manychat_helpers.ManyChatAPI(\n",
    "    api_key = \"https://api.manychat.com\"\n",
    "    psid    = \n",
    ")"
   ]
  },
  {
   "cell_type": "code",
   "execution_count": 4,
   "metadata": {},
   "outputs": [],
   "source": [
    "base_url = 'https://dialogflow.cloud.google.com/v1/integrations/messenger/webhook'\n",
    "\n",
    "api_key = '107029100963432:4bf8fbdfbc5993907ea36dd8ba0c0b0a'\n",
    "psid    = '5220826191261652'\n",
    "project_id = 'rl-agent-v0-1-myia',\n",
    "agent_id= \"bf83dfc5-434f-469a-890e-6ac3db6e8da3\"\n",
    "\n",
    "input_text = \"buy pizza\"\n",
    "context    = 'buy_pizza'\n",
    "language   = 'English'\n",
    "language_code = 'en'"
   ]
  },
  {
   "cell_type": "code",
   "execution_count": 101,
   "metadata": {},
   "outputs": [],
   "source": [
    "dialogflow_response = lambda : None\n",
    "dialogflow_response.queryResult = {'responseId': '5b5fc92e-19c5-48fd-b606-4656a0cf1359-36f35620', 'queryResult': {'queryText': 'buy pizza', 'parameters': {'pizza_size': '', 'topping': '', 'quantity': ''}, 'fulfillmentText': 'Topping type?', 'fulfillmentMessages': [{'text': {'text': ['Topping type?']}}], 'outputContexts': [{'name': 'projects/rl-agent-v0-1-myia/agent/sessions/5220826191261652/contexts/38769ec7-f652-48ab-b437-06e31e5dd3c8_id_dialog_context', 'lifespanCount': 2, 'parameters': {'topping': '', 'topping.original': '', 'quantity': '', 'pizza_size.original': '', 'quantity.original': '', 'pizza_size': ''}}, {'name': 'projects/rl-agent-v0-1-myia/agent/sessions/5220826191261652/contexts/buy_pizza_dialog_context', 'lifespanCount': 2, 'parameters': {'pizza_size': '', 'quantity.original': '', 'pizza_size.original': '', 'topping.original': '', 'quantity': '', 'topping': ''}}, {'name': 'projects/rl-agent-v0-1-myia/agent/sessions/5220826191261652/contexts/buy_pizza_dialog_params_topping', 'lifespanCount': 1, 'parameters': {'topping.original': '', 'quantity': '', 'pizza_size.original': '', 'topping': '', 'pizza_size': '', 'quantity.original': ''}}, {'name': 'projects/rl-agent-v0-1-myia/agent/sessions/5220826191261652/contexts/buy_pizza', 'lifespanCount': 1, 'parameters': {'quantity.original': '', 'topping.original': '', 'quantity': '', 'pizza_size.original': '', 'topping': '', 'pizza_size': ''}}, {'name': 'projects/rl-agent-v0-1-myia/agent/sessions/5220826191261652/contexts/__system_counters__', 'lifespanCount': 1, 'parameters': {'pizza_size.original': '', 'pizza_size': '', 'topping.original': '', 'no-input': 0.0, 'no-match': 0.0, 'quantity': '', 'topping': '', 'quantity.original': ''}}], 'intent': {'name': 'projects/rl-agent-v0-1-myia/agent/intents/38769ec7-f652-48ab-b437-06e31e5dd3c8', 'displayName': 'buy_pizza'}, 'intentDetectionConfidence': 1.0, 'languageCode': 'en'}, 'alternativeQueryResults': [{'queryText': 'buy pizza', 'outputContexts': [{'name': 'projects/rl-agent-v0-1-myia/agent/sessions/5220826191261652/contexts/buy_pizza'}], 'languageCode': 'en'}], 'agentId': 'bf83dfc5-434f-469a-890e-6ac3db6e8da3', 'agentSettings': {'enableAgentWideKnowledgeConnector': True}, 'messages': [{'type': 'text', 'message': 'Topping type?'}], 'parameters': [{'pizza_size': ''}, {'topping': ''}, {'quantity': ''}]}\n"
   ]
  },
  {
   "cell_type": "code",
   "execution_count": 127,
   "metadata": {},
   "outputs": [],
   "source": [
    "dialogflow_response.parameters = dialogflow_response.queryResult['parameters']"
   ]
  },
  {
   "cell_type": "code",
   "execution_count": 128,
   "metadata": {},
   "outputs": [
    {
     "data": {
      "text/plain": [
       "[{'pizza_size': ''}, {'topping': ''}, {'quantity': ''}]"
      ]
     },
     "execution_count": 128,
     "metadata": {},
     "output_type": "execute_result"
    }
   ],
   "source": [
    "dialogflow_response.parameters"
   ]
  },
  {
   "cell_type": "code",
   "execution_count": 5,
   "metadata": {},
   "outputs": [],
   "source": [
    "mc = manychat_helpers.ManyChatAPI(     # Init manychat object\n",
    "    api_key= api_key,\n",
    "    psid=psid,\n",
    ")"
   ]
  },
  {
   "cell_type": "code",
   "execution_count": 129,
   "metadata": {},
   "outputs": [
    {
     "data": {
      "text/plain": [
       "[{'pizza_size': ''}, {'topping': ''}, {'quantity': ''}]"
      ]
     },
     "execution_count": 129,
     "metadata": {},
     "output_type": "execute_result"
    }
   ],
   "source": [
    "dialogflow_response.parameters"
   ]
  },
  {
   "cell_type": "code",
   "execution_count": 130,
   "metadata": {},
   "outputs": [
    {
     "name": "stdout",
     "output_type": "stream",
     "text": [
      "pizza_size:\n",
      "topping:\n",
      "quantity:\n"
     ]
    }
   ],
   "source": [
    "if dialogflow_response.parameters:\n",
    "    for object in dialogflow_response.parameters:  # for each of the parameters \n",
    "        for key, value in object.items():\n",
    "            if value and value != '':             \n",
    "                mc.set_custom_field_by_name(      \n",
    "                    field_name=key,\n",
    "                    field_value=value[0] if isinstance(value, list) else value, # Take the first value a list, otherwise value\n",
    "                )\n",
    "            \n",
    "            print(\"{}:{}\".format(key,value))\n",
    "            "
   ]
  },
  {
   "cell_type": "code",
   "execution_count": 135,
   "metadata": {},
   "outputs": [
    {
     "name": "stdout",
     "output_type": "stream",
     "text": [
      "{'pizza_size': ''}\n",
      "{'topping': ''}\n",
      "{'quantity': ''}\n"
     ]
    }
   ],
   "source": [
    "if dialogflow_response.parameters:\n",
    "    for param in dialogflow_response.parameters:\n",
    "        for key, value in param.items():\n",
    "            if value and value != '':\n",
    "                mc.set_custom_field_by_name(\n",
    "                    field_name=key,\n",
    "                    field_value=value[0] if isinstance(value, list) else value,\n",
    "                )\n",
    "                \n",
    "        print({key:value})"
   ]
  },
  {
   "cell_type": "code",
   "execution_count": 136,
   "metadata": {},
   "outputs": [],
   "source": [
    "obj = {'flow': 'content20220619040809_695482'}"
   ]
  },
  {
   "cell_type": "code",
   "execution_count": 6,
   "metadata": {},
   "outputs": [
    {
     "data": {
      "text/plain": [
       "{'status': 'error',\n",
       " 'message': requests.exceptions.ReadTimeout(urllib3.exceptions.ReadTimeoutError(\"HTTPSConnectionPool(host='api.manychat.com', port=443): Read timed out. (read timeout=5)\"))}"
      ]
     },
     "execution_count": 6,
     "metadata": {},
     "output_type": "execute_result"
    }
   ],
   "source": [
    "mc.send_flow(flow_ns='content20220317215801_870890')"
   ]
  },
  {
   "cell_type": "markdown",
   "metadata": {},
   "source": [
    "# Response"
   ]
  },
  {
   "cell_type": "code",
   "execution_count": 139,
   "metadata": {},
   "outputs": [],
   "source": [
    "data = [{'type': 'text', 'message': ''}, {'type': 'flow', 'flow': 'content20220619043036_341377'}]"
   ]
  },
  {
   "cell_type": "code",
   "execution_count": 142,
   "metadata": {},
   "outputs": [],
   "source": [
    "for message in data:\n",
    "    if message['type'] == 'text':\n",
    "        mc.send_content(\n",
    "            messages=[\n",
    "                message['message']\n",
    "            ]\n",
    "        )\n",
    "    else:\n",
    "        mc.send_flow(\n",
    "            flow_ns=message['flow']\n",
    "        )"
   ]
  },
  {
   "cell_type": "code",
   "execution_count": 82,
   "metadata": {},
   "outputs": [
    {
     "name": "stdout",
     "output_type": "stream",
     "text": [
      "color -> blue\n",
      "fruit -> apple\n",
      "pet -> dog\n"
     ]
    }
   ],
   "source": [
    "a_dict = {'color': 'blue', 'fruit': 'apple', 'pet': 'dog'}\n",
    "for key, value in a_dict.items():\n",
    "  print(key, '->', value)"
   ]
  },
  {
   "cell_type": "code",
   "execution_count": 63,
   "metadata": {},
   "outputs": [
    {
     "ename": "AttributeError",
     "evalue": "'list' object has no attribute 'values'",
     "output_type": "error",
     "traceback": [
      "\u001b[0;31m---------------------------------------------------------------------------\u001b[0m",
      "\u001b[0;31mAttributeError\u001b[0m                            Traceback (most recent call last)",
      "\u001b[0;32m/var/folders/w0/z07p93y54bz2zqjzp7v4v4nm0000gn/T/ipykernel_68637/896344016.py\u001b[0m in \u001b[0;36m<module>\u001b[0;34m\u001b[0m\n\u001b[0;32m----> 1\u001b[0;31m \u001b[0mr\u001b[0m\u001b[0;34m[\u001b[0m\u001b[0;34m'parameters'\u001b[0m\u001b[0;34m]\u001b[0m\u001b[0;34m.\u001b[0m\u001b[0mvalues\u001b[0m\u001b[0;34m(\u001b[0m\u001b[0;34m)\u001b[0m\u001b[0;34m\u001b[0m\u001b[0;34m\u001b[0m\u001b[0m\n\u001b[0m",
      "\u001b[0;31mAttributeError\u001b[0m: 'list' object has no attribute 'values'"
     ]
    }
   ],
   "source": [
    "r['parameters'].values()"
   ]
  },
  {
   "cell_type": "code",
   "execution_count": 52,
   "metadata": {},
   "outputs": [],
   "source": [
    "df = r['parameters']"
   ]
  },
  {
   "cell_type": "code",
   "execution_count": 61,
   "metadata": {},
   "outputs": [],
   "source": [
    "df = [{x: y} for x, y in enumerate(r['parameters'])]"
   ]
  },
  {
   "cell_type": "code",
   "execution_count": 62,
   "metadata": {},
   "outputs": [
    {
     "data": {
      "text/plain": [
       "[{0: {'pizza_size': ''}}, {1: {'topping': ''}}, {2: {'quantity': ''}}]"
      ]
     },
     "execution_count": 62,
     "metadata": {},
     "output_type": "execute_result"
    }
   ],
   "source": [
    "df"
   ]
  },
  {
   "cell_type": "code",
   "execution_count": 21,
   "metadata": {},
   "outputs": [],
   "source": [
    "data = r['parameters']"
   ]
  },
  {
   "cell_type": "code",
   "execution_count": 31,
   "metadata": {},
   "outputs": [
    {
     "data": {
      "text/plain": [
       "{'pizza_size': ''}"
      ]
     },
     "execution_count": 31,
     "metadata": {},
     "output_type": "execute_result"
    }
   ],
   "source": [
    "data[0]"
   ]
  },
  {
   "cell_type": "code",
   "execution_count": 27,
   "metadata": {},
   "outputs": [
    {
     "ename": "TypeError",
     "evalue": "list indices must be integers or slices, not dict",
     "output_type": "error",
     "traceback": [
      "\u001b[0;31m---------------------------------------------------------------------------\u001b[0m",
      "\u001b[0;31mTypeError\u001b[0m                                 Traceback (most recent call last)",
      "\u001b[0;32m/var/folders/w0/z07p93y54bz2zqjzp7v4v4nm0000gn/T/ipykernel_68637/2947712298.py\u001b[0m in \u001b[0;36m<module>\u001b[0;34m\u001b[0m\n\u001b[0;32m----> 1\u001b[0;31m \u001b[0;34m[\u001b[0m\u001b[0mprint\u001b[0m\u001b[0;34m(\u001b[0m\u001b[0mdata\u001b[0m\u001b[0;34m[\u001b[0m\u001b[0mv\u001b[0m\u001b[0;34m]\u001b[0m\u001b[0;34m)\u001b[0m \u001b[0;32mfor\u001b[0m \u001b[0mv\u001b[0m \u001b[0;32min\u001b[0m \u001b[0mdata\u001b[0m\u001b[0;34m]\u001b[0m\u001b[0;34m\u001b[0m\u001b[0;34m\u001b[0m\u001b[0m\n\u001b[0m",
      "\u001b[0;32m/var/folders/w0/z07p93y54bz2zqjzp7v4v4nm0000gn/T/ipykernel_68637/2947712298.py\u001b[0m in \u001b[0;36m<listcomp>\u001b[0;34m(.0)\u001b[0m\n\u001b[0;32m----> 1\u001b[0;31m \u001b[0;34m[\u001b[0m\u001b[0mprint\u001b[0m\u001b[0;34m(\u001b[0m\u001b[0mdata\u001b[0m\u001b[0;34m[\u001b[0m\u001b[0mv\u001b[0m\u001b[0;34m]\u001b[0m\u001b[0;34m)\u001b[0m \u001b[0;32mfor\u001b[0m \u001b[0mv\u001b[0m \u001b[0;32min\u001b[0m \u001b[0mdata\u001b[0m\u001b[0;34m]\u001b[0m\u001b[0;34m\u001b[0m\u001b[0;34m\u001b[0m\u001b[0m\n\u001b[0m",
      "\u001b[0;31mTypeError\u001b[0m: list indices must be integers or slices, not dict"
     ]
    }
   ],
   "source": [
    "[print(data[v]) for v in data]"
   ]
  },
  {
   "cell_type": "markdown",
   "metadata": {},
   "source": [
    "# API Requests"
   ]
  },
  {
   "cell_type": "markdown",
   "metadata": {},
   "source": [
    "POST\n",
    "​/fb​/sending​/sendContent\n",
    "Send content to subscriber\n",
    "\n",
    "POST\n",
    "​/fb​/sending​/sendContentByUserRef\n",
    "Send content to user ref\n",
    "\n",
    "POST\n",
    "​/fb​/sending​/sendFlow\n",
    "Send flow to subscriber\n",
    "\n",
    "Subscriber\n",
    "\n",
    "GET\n",
    "​/fb​/subscriber​/getInfo\n",
    "\n",
    "GET\n",
    "​/fb​/subscriber​/findByName\n",
    "\n",
    "GET\n",
    "​/fb​/subscriber​/getInfoByUserRef\n",
    "\n",
    "GET\n",
    "​/fb​/subscriber​/findByCustomField\n",
    "\n",
    "GET\n",
    "​/fb​/subscriber​/findBySystemField\n",
    "\n",
    "POST\n",
    "​/fb​/subscriber​/addTag\n",
    "Add tag to subscriber\n",
    "\n",
    "POST\n",
    "​/fb​/subscriber​/addTagByName\n",
    "Add tag to subscriber\n",
    "\n",
    "POST\n",
    "​/fb​/subscriber​/removeTag\n",
    "Remove tag from subscriber\n",
    "\n",
    "POST\n",
    "​/fb​/subscriber​/removeTagByName\n",
    "Remove tag from subscriber\n",
    "\n",
    "POST\n",
    "​/fb​/subscriber​/setCustomField\n",
    "\n",
    "POST\n",
    "​/fb​/subscriber​/setCustomFields\n",
    "\n",
    "POST\n",
    "​/fb​/subscriber​/setCustomFieldByName\n",
    "\n",
    "POST\n",
    "​/fb​/subscriber​/verifyBySignedRequest\n",
    "\n",
    "POST\n",
    "​/fb​/subscriber​/createSubscriber\n",
    "Create a Unified or a WhatsApp subscriber\n",
    "\n",
    "POST\n",
    "​/fb​/subscriber​/updateSubscriber"
   ]
  },
  {
   "cell_type": "markdown",
   "metadata": {},
   "source": [
    "Dialogflow endpoint"
   ]
  },
  {
   "cell_type": "code",
   "execution_count": 60,
   "metadata": {},
   "outputs": [
    {
     "data": {
      "text/plain": [
       "'https://dialogflow.cloud.google.com/v1/integrations/messenger/webhook/bf83dfc5-434f-469a-890e-6ac3db6e8da3/sessions/5220826191261652?platform=webdemo'"
      ]
     },
     "execution_count": 60,
     "metadata": {},
     "output_type": "execute_result"
    }
   ],
   "source": [
    "f'{base_url}/{agent_id}/sessions/{psid}?platform=webdemo'"
   ]
  },
  {
   "cell_type": "code",
   "execution_count": 73,
   "metadata": {},
   "outputs": [
    {
     "data": {
      "text/plain": [
       "'rl-agent-v0-1-myia'"
      ]
     },
     "execution_count": 73,
     "metadata": {},
     "output_type": "execute_result"
    }
   ],
   "source": [
    "project_id[0]"
   ]
  },
  {
   "cell_type": "code",
   "execution_count": 74,
   "metadata": {},
   "outputs": [
    {
     "data": {
      "text/plain": [
       "\"projects/('rl-agent-v0-1-myia',)/agent/sessions/5220826191261652/contexts/buy_pizza\""
      ]
     },
     "execution_count": 74,
     "metadata": {},
     "output_type": "execute_result"
    }
   ],
   "source": [
    "'projects/{}/agent/sessions/{}/contexts/{}'.format(project_id, psid, context)"
   ]
  },
  {
   "cell_type": "code",
   "execution_count": 75,
   "metadata": {},
   "outputs": [
    {
     "data": {
      "text/plain": [
       "'projects/rl-agent-v0-1-myia/agent/sessions/5220826191261652/contexts/buy_pizza'"
      ]
     },
     "execution_count": 75,
     "metadata": {},
     "output_type": "execute_result"
    }
   ],
   "source": [
    "f'projects/{project_id[0]}/agent/sessions/{psid}/contexts/{context}'"
   ]
  },
  {
   "cell_type": "code",
   "execution_count": 83,
   "metadata": {},
   "outputs": [
    {
     "name": "stdout",
     "output_type": "stream",
     "text": [
      "Yo yo yo whats up\n"
     ]
    }
   ],
   "source": [
    "df_text_input = ''\n",
    "\n",
    "if df_text_input == '':                           # if dialgoflow input text is empty, get many chat last text input\n",
    "    mc_user_info = mc.get_user_info()\n",
    "    input_text = mc_user_info['data']['last_input_text'] if mc_user_info['status'] == 'success' else '' \n",
    "    print(input_text)"
   ]
  },
  {
   "cell_type": "code",
   "execution_count": 63,
   "metadata": {},
   "outputs": [
    {
     "name": "stdout",
     "output_type": "stream",
     "text": [
      "\n",
      "{\n",
      "  \"responseId\": \"f9258164-943a-44da-9a25-19a6ed806203-36f35620\",\n",
      "  \"queryResult\": {\n",
      "    \"queryText\": \"buy pizza\",\n",
      "    \"parameters\": {\n",
      "      \"quantity\": \"\",\n",
      "      \"topping\": \"\",\n",
      "      \"pizza_size\": \"\"\n",
      "    },\n",
      "    \"fulfillmentText\": \"What sort of topping would you like?\",\n",
      "    \"fulfillmentMessages\": [{\n",
      "      \"text\": {\n",
      "        \"text\": [\"What sort of topping would you like?\"]\n",
      "      }\n",
      "    }],\n",
      "    \"outputContexts\": [{\n",
      "      \"name\": \"projects/rl-agent-v0-1-myia/agent/sessions/5220826191261652/contexts/38769ec7-f652-48ab-b437-06e31e5dd3c8_id_dialog_context\",\n",
      "      \"lifespanCount\": 2,\n",
      "      \"parameters\": {\n",
      "        \"quantity.original\": \"\",\n",
      "        \"pizza_size\": \"\",\n",
      "        \"topping\": \"\",\n",
      "        \"pizza_size.original\": \"\",\n",
      "        \"quantity\": \"\",\n",
      "        \"topping.original\": \"\"\n",
      "      }\n",
      "    }, {\n",
      "      \"name\": \"projects/rl-agent-v0-1-myia/agent/sessions/5220826191261652/contexts/buy_pizza_dialog_context\",\n",
      "      \"lifespanCount\": 2,\n",
      "      \"parameters\": {\n",
      "        \"quantity\": \"\",\n",
      "        \"topping\": \"\",\n",
      "        \"quantity.original\": \"\",\n",
      "        \"pizza_size\": \"\",\n",
      "        \"topping.original\": \"\",\n",
      "        \"pizza_size.original\": \"\"\n",
      "      }\n",
      "    }, {\n",
      "      \"name\": \"projects/rl-agent-v0-1-myia/agent/sessions/5220826191261652/contexts/buy_pizza_dialog_params_topping\",\n",
      "      \"lifespanCount\": 1,\n",
      "      \"parameters\": {\n",
      "        \"quantity.original\": \"\",\n",
      "        \"quantity\": \"\",\n",
      "        \"topping.original\": \"\",\n",
      "        \"topping\": \"\",\n",
      "        \"pizza_size.original\": \"\",\n",
      "        \"pizza_size\": \"\"\n",
      "      }\n",
      "    }, {\n",
      "      \"name\": \"projects/rl-agent-v0-1-myia/agent/sessions/5220826191261652/contexts/buy_pizza\",\n",
      "      \"lifespanCount\": 1,\n",
      "      \"parameters\": {\n",
      "        \"topping\": \"\",\n",
      "        \"pizza_size.original\": \"\",\n",
      "        \"quantity\": \"\",\n",
      "        \"quantity.original\": \"\",\n",
      "        \"topping.original\": \"\",\n",
      "        \"pizza_size\": \"\"\n",
      "      }\n",
      "    }, {\n",
      "      \"name\": \"projects/rl-agent-v0-1-myia/agent/sessions/5220826191261652/contexts/__system_counters__\",\n",
      "      \"lifespanCount\": 1,\n",
      "      \"parameters\": {\n",
      "        \"quantity.original\": \"\",\n",
      "        \"no-input\": 0.0,\n",
      "        \"topping\": \"\",\n",
      "        \"pizza_size\": \"\",\n",
      "        \"no-match\": 0.0,\n",
      "        \"quantity\": \"\",\n",
      "        \"pizza_size.original\": \"\",\n",
      "        \"topping.original\": \"\"\n",
      "      }\n",
      "    }],\n",
      "    \"intent\": {\n",
      "      \"name\": \"projects/rl-agent-v0-1-myia/agent/intents/38769ec7-f652-48ab-b437-06e31e5dd3c8\",\n",
      "      \"displayName\": \"buy_pizza\"\n",
      "    },\n",
      "    \"intentDetectionConfidence\": 1.0,\n",
      "    \"languageCode\": \"en\"\n",
      "  },\n",
      "  \"agentId\": \"bf83dfc5-434f-469a-890e-6ac3db6e8da3\",\n",
      "  \"agentSettings\": {\n",
      "    \"enableAgentWideKnowledgeConnector\": true\n",
      "  }\n",
      "}\n"
     ]
    }
   ],
   "source": [
    "response = lambda: None                        # Anonymous function\n",
    "response.messages = []\n",
    "response.parameters = []\n",
    "\n",
    "data = {\n",
    "    'queryInput': {\n",
    "        'text': {\n",
    "            'text': input_text,                      # Payload of TEXT\n",
    "            'languageCode': language_code,\n",
    "        }\n",
    "    },\n",
    "}\n",
    "\n",
    "if context:                                    # Add the context, if necessary\n",
    "    data['queryParams'] = {\n",
    "        'contexts': [\n",
    "            {\n",
    "                'name': f'projects/{project_id}/agent/sessions/{psid}/contexts/{context}',\n",
    "                'lifespanCount': 1,\n",
    "            }\n",
    "        ]\n",
    "    }\n",
    "\n",
    "df_response = requests.post(                   # Post to dialog flow webhook base / agent / session_id (manychat psid) / location\n",
    "    url=f'{base_url}/{agent_id}/sessions/{psid}?platform=webdemo',\n",
    "    data=json.dumps(data),\n",
    ")\n",
    "\n",
    "\n",
    "clean_response = df_response.text.replace(\")]}'\", \"\")   # Replace all )]}' for nothing\n",
    "print(clean_response)\n",
    "# results = json.loads(clean_response)\n",
    "# print(json.dumps(results, indent=4, sort_keys=True))"
   ]
  },
  {
   "cell_type": "markdown",
   "metadata": {},
   "source": [
    "## Manychat Helper"
   ]
  },
  {
   "cell_type": "markdown",
   "metadata": {},
   "source": [
    "Get info and send content"
   ]
  },
  {
   "cell_type": "code",
   "execution_count": 71,
   "metadata": {},
   "outputs": [
    {
     "data": {
      "text/plain": [
       "{'status': 'success',\n",
       " 'data': {'id': '5220826191261652',\n",
       "  'page_id': '107029100963432',\n",
       "  'user_refs': [{'user_ref': '107894251403008',\n",
       "    'opted_in': '2021-04-02T21:14:27-07:00'}],\n",
       "  'status': 'active',\n",
       "  'first_name': 'Kurtis',\n",
       "  'last_name': 'Selander',\n",
       "  'name': 'Kurtis Selander',\n",
       "  'gender': 'male',\n",
       "  'profile_pic': 'https://manybot-thumbnails.s3.eu-central-1.amazonaws.com/107029100963432/subscribers/big_a8d0158df2c57704ae5bec6e3c0d73b8.jpg',\n",
       "  'locale': 'en_US',\n",
       "  'language': 'English',\n",
       "  'timezone': 'UTC-07',\n",
       "  'live_chat_url': 'https://manychat.com/fb107029100963432/chat/5220826191261652',\n",
       "  'last_input_text': 'hello',\n",
       "  'optin_phone': False,\n",
       "  'phone': None,\n",
       "  'optin_email': True,\n",
       "  'email': None,\n",
       "  'subscribed': '2020-12-03T11:00:04-08:00',\n",
       "  'last_interaction': '2022-06-20T02:39:10-07:00',\n",
       "  'ig_last_interaction': None,\n",
       "  'last_seen': '2022-06-20T02:39:20-07:00',\n",
       "  'ig_last_seen': None,\n",
       "  'is_followup_enabled': True,\n",
       "  'ig_username': None,\n",
       "  'ig_id': None,\n",
       "  'whatsapp_phone': None,\n",
       "  'optin_whatsapp': False,\n",
       "  'custom_fields': [{'id': 7748923,\n",
       "    'name': 'alpaca-strategy-timeframe',\n",
       "    'type': 'text',\n",
       "    'description': '',\n",
       "    'value': '30Min'},\n",
       "   {'id': 7748925,\n",
       "    'name': 'alpaca-strategy-momentum-fast_sma',\n",
       "    'type': 'text',\n",
       "    'description': '',\n",
       "    'value': '6'},\n",
       "   {'id': 7748924,\n",
       "    'name': 'alpaca-strategy-momentum-slow_sma',\n",
       "    'type': 'text',\n",
       "    'description': '',\n",
       "    'value': '12'},\n",
       "   {'id': 7748953,\n",
       "    'name': 'alpaca-strategy-symbol',\n",
       "    'type': 'text',\n",
       "    'description': '',\n",
       "    'value': 'AAPL'},\n",
       "   {'id': 7952167,\n",
       "    'name': 'stockbud-order-router',\n",
       "    'type': 'text',\n",
       "    'description': 'https://og02x0ip0f.execute-api.us-west-1.amazonaws.com/api/v1/crypto/route_order',\n",
       "    'value': 'https://og02x0ip0f.execute-api.us-west-1.amazonaws.com/api/v1/stock/route_order'},\n",
       "   {'id': 7754479,\n",
       "    'name': 'alpaca-strategy-start_date',\n",
       "    'type': 'text',\n",
       "    'description': '',\n",
       "    'value': '2020-01-01'},\n",
       "   {'id': 7754480,\n",
       "    'name': 'alpaca-strategy-end_date',\n",
       "    'type': 'text',\n",
       "    'description': '',\n",
       "    'value': '2022-01-01'},\n",
       "   {'id': 7738216,\n",
       "    'name': 'alpaca-oauth-code',\n",
       "    'type': 'text',\n",
       "    'description': '',\n",
       "    'value': '33125060-38eb-48ba-a29a-6b622ad88efb'},\n",
       "   {'id': 7730840,\n",
       "    'name': 'alpaca-oauth-access-token',\n",
       "    'type': 'text',\n",
       "    'description': '',\n",
       "    'value': 'a6a2fff4-ca98-45af-a069-d7592fd1ff47'},\n",
       "   {'id': 7748170,\n",
       "    'name': 'alpaca-account-daytrade_count',\n",
       "    'type': 'number',\n",
       "    'description': '',\n",
       "    'value': 3},\n",
       "   {'id': 7923870,\n",
       "    'name': 'alpaca-paper-boolean',\n",
       "    'type': 'text',\n",
       "    'description': 'false',\n",
       "    'value': 'true'},\n",
       "   {'id': 7923864,\n",
       "    'name': 'alpaca-url',\n",
       "    'type': 'text',\n",
       "    'description': 'api.alpaca.markets',\n",
       "    'value': 'paper-api.alpaca.markets'},\n",
       "   {'id': 7929660,\n",
       "    'name': 'alpaca-positions-list',\n",
       "    'type': 'text',\n",
       "    'description': '',\n",
       "    'value': \"[('AMD', 'long', '227.66629416')]\"},\n",
       "   {'id': 7748166,\n",
       "    'name': 'alpaca-account-long_market_value',\n",
       "    'type': 'text',\n",
       "    'description': '',\n",
       "    'value': '15585.57644825441'},\n",
       "   {'id': 7748168,\n",
       "    'name': 'alpaca-account-short_market_value',\n",
       "    'type': 'text',\n",
       "    'description': '',\n",
       "    'value': '0'},\n",
       "   {'id': 7748176,\n",
       "    'name': 'alpaca-account-account_number',\n",
       "    'type': 'text',\n",
       "    'description': '',\n",
       "    'value': 'PA34BU04DHMW'},\n",
       "   {'id': 7748178,\n",
       "    'name': 'alpaca-account-account_blocked',\n",
       "    'type': 'boolean',\n",
       "    'description': '',\n",
       "    'value': False},\n",
       "   {'id': 7748173,\n",
       "    'name': 'alpaca-account-buying_power',\n",
       "    'type': 'text',\n",
       "    'description': '',\n",
       "    'value': '3865.39644944397'},\n",
       "   {'id': 7730834,\n",
       "    'name': 'alpaca-account-cash-available',\n",
       "    'type': 'text',\n",
       "    'description': '',\n",
       "    'value': '-5860.08999940522'},\n",
       "   {'id': 7748163,\n",
       "    'name': 'alpaca-account-shorting_enabled',\n",
       "    'type': 'boolean',\n",
       "    'description': '',\n",
       "    'value': True},\n",
       "   {'id': 7748164,\n",
       "    'name': 'alpaca-account-equity',\n",
       "    'type': 'text',\n",
       "    'description': '',\n",
       "    'value': '9725.48644884919'},\n",
       "   {'id': 7748175,\n",
       "    'name': 'alpaca-account-id',\n",
       "    'type': 'text',\n",
       "    'description': '',\n",
       "    'value': 'ea1d8bb3-03bf-4527-837b-5ee729063da1'},\n",
       "   {'id': 7886719,\n",
       "    'name': 'tradingview-json-router-message-simple',\n",
       "    'type': 'text',\n",
       "    'description': '',\n",
       "    'value': '{\"passphrase\": \"neverpeak2.0\", \"ticker\": \"{{ticker}}\", \"exchange\": \"{{exchange}}\", \"bar\": {\"time\": \"{{timenow}}\", \"open\": \"{{open}}\", \"high\": \"{{high}}\", \"low\": \"{{low}}\", \"close\": \"{{close}}\", \"volume\": \"{{volume}}\"}, \"strategy\": {\"order_action\": \"{{strategy.order.action}}\", \"order_size\": \"{{strategy.order.contracts}}\", \"position_size\": \"{{strategy.position_size}}\"}, \"code\": \"a6a2fff4-ca98-45af-a069-d7592fd1ff47\", \"paper\": \"true\"}'},\n",
       "   {'id': 7731966,\n",
       "    'name': 'alpaca-client-authenticate-data-url',\n",
       "    'type': 'text',\n",
       "    'description': '',\n",
       "    'value': 'https://app.alpaca.markets/oauth/authorize?response_type=code&client_id=ba1aa93a99e8ae606452f8b512274b10&redirect_uri=https%3A%2F%2Fapi.stockbud.io%2Foauth%2Fcallback&scope=account%3Awrite+trading+data&state=9lHkaqPWkB4k3NPDzHJWO90ocEWsIa'}],\n",
       "  'shopify_fields': None,\n",
       "  'tags': [{'id': 24816075, 'name': 'interested_men'},\n",
       "   {'id': 24816018, 'name': 'preferred_phone'},\n",
       "   {'id': 24816019, 'name': 'preferred_email'}]}}"
      ]
     },
     "execution_count": 71,
     "metadata": {},
     "output_type": "execute_result"
    }
   ],
   "source": [
    "mc = manychat_helpers.ManyChatAPI(     # Init manychat object\n",
    "    api_key= api_key,\n",
    "    psid=psid,\n",
    ")\n",
    "\n",
    "mc.get_user_info()"
   ]
  },
  {
   "cell_type": "code",
   "execution_count": 32,
   "metadata": {},
   "outputs": [
    {
     "data": {
      "text/plain": [
       "{'status': 'success'}"
      ]
     },
     "execution_count": 32,
     "metadata": {},
     "output_type": "execute_result"
    }
   ],
   "source": [
    "content = ['message 5', 'message 6']\n",
    "mc.send_content(messages=content)"
   ]
  },
  {
   "cell_type": "code",
   "execution_count": 56,
   "metadata": {},
   "outputs": [
    {
     "name": "stdout",
     "output_type": "stream",
     "text": [
      "True\n",
      "False\n"
     ]
    }
   ],
   "source": [
    "my_dict = {'name': 'Alice', 'age': 30}\n",
    "no_dict = {}\n",
    "# if hasattr(my_dict, 'values'):\n",
    "#     print(my_dict.values())  # 👉️ dict_values(['Alice', 30])\n",
    "# else:\n",
    "#     print('Attribute not present in object')\n",
    "\n",
    "print(bool(my_dict))\n",
    "print(bool(no_dict))"
   ]
  },
  {
   "cell_type": "code",
   "execution_count": 57,
   "metadata": {},
   "outputs": [],
   "source": [
    "my_dict['test'] = []"
   ]
  },
  {
   "cell_type": "code",
   "execution_count": 58,
   "metadata": {},
   "outputs": [
    {
     "data": {
      "text/plain": [
       "[]"
      ]
     },
     "execution_count": 58,
     "metadata": {},
     "output_type": "execute_result"
    }
   ],
   "source": [
    "my_dict['test']"
   ]
  },
  {
   "cell_type": "markdown",
   "metadata": {},
   "source": [
    "## Dialogflow Sample"
   ]
  },
  {
   "cell_type": "code",
   "execution_count": 37,
   "metadata": {},
   "outputs": [
    {
     "name": "stdout",
     "output_type": "stream",
     "text": [
      ")]}'\n",
      "{\n",
      "  \"responseId\": \"2e26fc0c-688d-4768-8b47-5d5d65fdbd3d-36f35620\",\n",
      "  \"queryResult\": {\n",
      "    \"queryText\": \"buy pizza\",\n",
      "    \"action\": \"toppings\",\n",
      "    \"parameters\": {\n",
      "      \"topping\": \"cheese\"\n",
      "    },\n",
      "    \"allRequiredParamsPresent\": true,\n",
      "    \"fulfillmentText\": \"Great!  Bringing up the pizza flow\",\n",
      "    \"fulfillmentMessages\": [{\n",
      "      \"text\": {\n",
      "        \"text\": [\"Great!  Bringing up the pizza flow\"]\n",
      "      }\n",
      "    }, {\n",
      "      \"payload\": {\n",
      "        \"flow\": \"content20220619040809_695482\"\n",
      "      }\n",
      "    }],\n",
      "    \"outputContexts\": [{\n",
      "      \"name\": \"projects/rl-agent-v0-1-myia/agent/sessions/5220826191261652/contexts/buy_pizza\",\n",
      "      \"lifespanCount\": 5,\n",
      "      \"parameters\": {\n",
      "        \"topping\": \"cheese\",\n",
      "        \"topping.original\": \"\"\n",
      "      }\n",
      "    }],\n",
      "    \"intent\": {\n",
      "      \"name\": \"projects/rl-agent-v0-1-myia/agent/intents/38769ec7-f652-48ab-b437-06e31e5dd3c8\",\n",
      "      \"displayName\": \"buy_pizza\"\n",
      "    },\n",
      "    \"intentDetectionConfidence\": 1.0,\n",
      "    \"languageCode\": \"en\"\n",
      "  },\n",
      "  \"agentId\": \"bf83dfc5-434f-469a-890e-6ac3db6e8da3\"\n",
      "}\n"
     ]
    }
   ],
   "source": [
    "\n",
    "response = lambda: None                        # Anonymous function\n",
    "response.messages = []\n",
    "response.parameters = []\n",
    "\n",
    "data = {\n",
    "    'queryInput': {\n",
    "        'text': {\n",
    "            'text': input_text,                      # Payload of TEXT\n",
    "            'languageCode': language_code,\n",
    "        }\n",
    "    },\n",
    "}\n",
    "\n",
    "# if context:                                    # Add the context, if necessary\n",
    "#     data['queryParams'] = {\n",
    "#         'contexts': [\n",
    "#             {\n",
    "#                 'name': f'projects/{project_id}/agent/sessions/{psid}/contexts/{context}',\n",
    "#                 'lifespanCount': 1,\n",
    "#             }\n",
    "#         ]\n",
    "#     }\n",
    "\n",
    "df_response = requests.post(                   # Post to dialog flow webhook base / agent / session_id (manychat psid) / location\n",
    "    url=f'{base_url}/{agent_id}/sessions/{psid}?platform=webdemo',\n",
    "    data=json.dumps(data),\n",
    ")\n",
    "\n",
    "print(df_response.text)\n",
    "# clean_response = df_response.text.replace(\")]}'\", \"\")   # Replace all )]}' for nothing\n",
    "\n",
    "# results = json.loads(clean_response)\n",
    "# print(json.dumps(results, indent=4, sort_keys=True))"
   ]
  },
  {
   "cell_type": "code",
   "execution_count": 47,
   "metadata": {},
   "outputs": [],
   "source": [
    "import json\n",
    "from dataclasses import dataclass\n",
    "\n",
    "import requests\n",
    "\n",
    "\n",
    "@dataclass\n",
    "class DialogFlowAPI:   # Dialogflow API\n",
    "    project_id: str    # Get the dialogflow project, agent, base\n",
    "    agent_id: str\n",
    "    base_url = 'https://dialogflow.cloud.google.com/v1/integrations/messenger/webhook'\n",
    "\n",
    "    def detect_intent(self, \n",
    "                      session_id: str, \n",
    "                      text: str, \n",
    "                      language_code: str = 'en', \n",
    "                      context: str = None):\n",
    "        \n",
    "        response = lambda: None                        # Anonymous function\n",
    "        response.messages = []\n",
    "        response.parameters = []\n",
    "\n",
    "        data = {\n",
    "            'queryInput': {\n",
    "                'text': {\n",
    "                    'text': text,                      # Payload of TEXT\n",
    "                    'languageCode': language_code,\n",
    "                }\n",
    "            },\n",
    "        }\n",
    "\n",
    "        if context:                                    # Add the context, if necessary\n",
    "            data['queryParams'] = {\n",
    "                'contexts': [\n",
    "                    {\n",
    "                        'name': f'projects/{self.project_id}/agent/sessions/{session_id}/contexts/{context}',\n",
    "                        'lifespanCount': 1,\n",
    "                    }\n",
    "                ]\n",
    "            }\n",
    "\n",
    "        df_response = requests.post(                   # Post to dialog flow webhook base / agent / session_id (manychat psid) / location\n",
    "            url=f'{self.base_url}/{self.agent_id}/sessions/{session_id}?platform=webdemo',\n",
    "            data=json.dumps(data),\n",
    "        )\n",
    "\n",
    "        clean_response = df_response.text.replace(\")]}'\", \"\")   # Replace all )]}' for nothing\n",
    "\n",
    "        results = json.loads(clean_response)\n",
    "        print(json.dumps(results, indent=4, sort_keys=True))\n",
    "\n",
    "        if 'knowledgeAnswers' in results['queryResult']:\n",
    "            if results['queryResult']['knowledgeAnswers']['answers']:\n",
    "                response.messages.append(\n",
    "                    {\n",
    "                        'type': 'text',\n",
    "                        'message': results['queryResult']['knowledgeAnswers']['answers'][0]['answer'],\n",
    "                    }\n",
    "                )\n",
    "\n",
    "        \n",
    "        if 'fulfillmentMessages' in results['queryResult']:\n",
    "            for message in results['queryResult']['fulfillmentMessages']:  # Now that we already have our message\n",
    "                if 'text' in message:\n",
    "                    if message['text']['text'][0].startswith('flow:'):\n",
    "                        response.messages.append(\n",
    "                            {\n",
    "                                'type': 'flow',\n",
    "                                'flow': message['text']['text'][0].replace('flow:', '').strip()\n",
    "                            }\n",
    "                        )\n",
    "\n",
    "                    else:\n",
    "                        response.messages.append(\n",
    "                            {\n",
    "                                'type': 'text',\n",
    "                                'message': message['text']['text'][0]\n",
    "                            }\n",
    "                        )\n",
    "\n",
    "            \n",
    "                elif 'payload' in message: \n",
    "                    if 'flow' in message['payload']:    \n",
    "                        response.messages.append(           # keep the payload style for previous compatibility\n",
    "                            {\n",
    "                                'type': 'flow',\n",
    "                                'flow': message['payload']['flow']\n",
    "                            }\n",
    "                        )\n",
    "\n",
    "        if 'parameters' in results['queryResult']:          # copy the parameters \n",
    "            for key, value in results['queryResult']['parameters'].items():\n",
    "                if key == 'date-period':\n",
    "                    response.parameters += [\n",
    "                        {\n",
    "                            'startDate': value[0]['startDate']  \n",
    "                        },\n",
    "                        {\n",
    "                            'endDate': value[0]['endDate']\n",
    "                        }\n",
    "                    ]\n",
    "\n",
    "                else:\n",
    "                    response.parameters.append(\n",
    "                        {\n",
    "                            key: value\n",
    "                        }\n",
    "                    )\n",
    "\n",
    "        return results\n"
   ]
  },
  {
   "cell_type": "code",
   "execution_count": 140,
   "metadata": {},
   "outputs": [
    {
     "data": {
      "text/plain": [
       "'{\"text\": \"okay!!!\", \"auth_token\": \"aasdasdasdasd\"}'"
      ]
     },
     "execution_count": 140,
     "metadata": {},
     "output_type": "execute_result"
    }
   ],
   "source": [
    "payload = {'text': 'okay!!!', 'auth_token': 'aasdasdasdasd'}\n",
    "jLoad = json.dumps(payload)\n",
    "jLoad"
   ]
  },
  {
   "cell_type": "code",
   "execution_count": 12,
   "metadata": {},
   "outputs": [],
   "source": [
    "params = {\n",
    "            'subscriber_id': psid,\n",
    "            'data': {\n",
    "                'version': 'v2',\n",
    "                'content': {\n",
    "                    'messages': [\n",
    "                        {\n",
    "                            'type': 'text',\n",
    "                            'text': 'some text',\n",
    "                        }\n",
    "                    ]\n",
    "                }\n",
    "            },\n",
    "        }"
   ]
  },
  {
   "cell_type": "markdown",
   "metadata": {},
   "source": []
  },
  {
   "cell_type": "code",
   "execution_count": 14,
   "metadata": {},
   "outputs": [
    {
     "data": {
      "text/plain": [
       "str"
      ]
     },
     "execution_count": 14,
     "metadata": {},
     "output_type": "execute_result"
    }
   ],
   "source": [
    "import json\n",
    "\n",
    "type(json.dumps(params))"
   ]
  },
  {
   "cell_type": "code",
   "execution_count": 143,
   "metadata": {},
   "outputs": [
    {
     "name": "stdout",
     "output_type": "stream",
     "text": [
      "{'type': 'text', 'message': 'What is the quantity?'}\n"
     ]
    }
   ],
   "source": [
    "for message in dialogflow_response.messages:   # for each message\n",
    "    if message['type'] == 'text':              # if type text, send message\n",
    "        print(message)\n",
    "        mc.send_content(\n",
    "            messages=[\n",
    "                message['message']\n",
    "            ]\n",
    "        )"
   ]
  },
  {
   "cell_type": "code",
   "execution_count": 148,
   "metadata": {},
   "outputs": [
    {
     "data": {
      "text/plain": [
       "list"
      ]
     },
     "execution_count": 148,
     "metadata": {},
     "output_type": "execute_result"
    }
   ],
   "source": [
    "type(dialogflow_response.messages)"
   ]
  },
  {
   "cell_type": "code",
   "execution_count": 144,
   "metadata": {},
   "outputs": [
    {
     "ename": "AttributeError",
     "evalue": "module 'google.cloud.dialogflow' has no attribute 'messages'",
     "output_type": "error",
     "traceback": [
      "\u001b[0;31m---------------------------------------------------------------------------\u001b[0m",
      "\u001b[0;31mAttributeError\u001b[0m                            Traceback (most recent call last)",
      "\u001b[0;32m/var/folders/w0/z07p93y54bz2zqjzp7v4v4nm0000gn/T/ipykernel_2573/2979994898.py\u001b[0m in \u001b[0;36m<module>\u001b[0;34m\u001b[0m\n\u001b[0;32m----> 1\u001b[0;31m \u001b[0mdialogflow\u001b[0m\u001b[0;34m.\u001b[0m\u001b[0mmessages\u001b[0m\u001b[0;34m\u001b[0m\u001b[0;34m\u001b[0m\u001b[0m\n\u001b[0m",
      "\u001b[0;31mAttributeError\u001b[0m: module 'google.cloud.dialogflow' has no attribute 'messages'"
     ]
    }
   ],
   "source": [
    "dialogflow.messages"
   ]
  },
  {
   "cell_type": "markdown",
   "metadata": {},
   "source": [
    "## Google Cloud Dialogflow"
   ]
  },
  {
   "cell_type": "code",
   "execution_count": 41,
   "metadata": {},
   "outputs": [],
   "source": [
    "import google.cloud.dialogflow as dialogflow\n",
    "\n",
    "# from CONFIG import DIALOGFLOW_PROJECT_ID\n",
    "os.environ[\"GOOGLE_APPLICATION_CREDENTIALS\"] = 'credentials/dialogflow.json'"
   ]
  },
  {
   "cell_type": "code",
   "execution_count": 39,
   "metadata": {},
   "outputs": [],
   "source": [
    "def predict_intent(text, language):\n",
    "    session_client = dialogflow.SessionsClient()\n",
    "    session = session_client.session_path(project_id, psid)\n",
    "    text_input = dialogflow.TextInput(text=text, language_code=language)\n",
    "    query_input = dialogflow.QueryInput(text=text_input)\n",
    "    response = session_client.detect_intent(session=session, query_input=query_input)  # ERROR\n",
    "    return response.query_result.intent.display_name"
   ]
  },
  {
   "cell_type": "code",
   "execution_count": 43,
   "metadata": {},
   "outputs": [
    {
     "ename": "DefaultCredentialsError",
     "evalue": "Could not automatically determine credentials. Please set GOOGLE_APPLICATION_CREDENTIALS or explicitly create credentials and re-run the application. For more information, please see https://cloud.google.com/docs/authentication/getting-started",
     "output_type": "error",
     "traceback": [
      "\u001b[0;31m---------------------------------------------------------------------------\u001b[0m",
      "\u001b[0;31mDefaultCredentialsError\u001b[0m                   Traceback (most recent call last)",
      "\u001b[0;32m/var/folders/w0/z07p93y54bz2zqjzp7v4v4nm0000gn/T/ipykernel_2573/1672074981.py\u001b[0m in \u001b[0;36m<module>\u001b[0;34m\u001b[0m\n\u001b[0;32m----> 1\u001b[0;31m \u001b[0mpredict_intent\u001b[0m\u001b[0;34m(\u001b[0m\u001b[0;34m'buy pizza'\u001b[0m\u001b[0;34m,\u001b[0m \u001b[0;34m'en'\u001b[0m\u001b[0;34m)\u001b[0m\u001b[0;34m\u001b[0m\u001b[0;34m\u001b[0m\u001b[0m\n\u001b[0m",
      "\u001b[0;32m/var/folders/w0/z07p93y54bz2zqjzp7v4v4nm0000gn/T/ipykernel_2573/6364293.py\u001b[0m in \u001b[0;36mpredict_intent\u001b[0;34m(text, language)\u001b[0m\n\u001b[1;32m      1\u001b[0m \u001b[0;32mdef\u001b[0m \u001b[0mpredict_intent\u001b[0m\u001b[0;34m(\u001b[0m\u001b[0mtext\u001b[0m\u001b[0;34m,\u001b[0m \u001b[0mlanguage\u001b[0m\u001b[0;34m)\u001b[0m\u001b[0;34m:\u001b[0m\u001b[0;34m\u001b[0m\u001b[0;34m\u001b[0m\u001b[0m\n\u001b[0;32m----> 2\u001b[0;31m     \u001b[0msession_client\u001b[0m \u001b[0;34m=\u001b[0m \u001b[0mdialogflow\u001b[0m\u001b[0;34m.\u001b[0m\u001b[0mSessionsClient\u001b[0m\u001b[0;34m(\u001b[0m\u001b[0;34m)\u001b[0m\u001b[0;34m\u001b[0m\u001b[0;34m\u001b[0m\u001b[0m\n\u001b[0m\u001b[1;32m      3\u001b[0m     \u001b[0msession\u001b[0m \u001b[0;34m=\u001b[0m \u001b[0msession_client\u001b[0m\u001b[0;34m.\u001b[0m\u001b[0msession_path\u001b[0m\u001b[0;34m(\u001b[0m\u001b[0mproject_id\u001b[0m\u001b[0;34m,\u001b[0m \u001b[0mpsid\u001b[0m\u001b[0;34m)\u001b[0m\u001b[0;34m\u001b[0m\u001b[0;34m\u001b[0m\u001b[0m\n\u001b[1;32m      4\u001b[0m     \u001b[0mtext_input\u001b[0m \u001b[0;34m=\u001b[0m \u001b[0mdialogflow\u001b[0m\u001b[0;34m.\u001b[0m\u001b[0mTextInput\u001b[0m\u001b[0;34m(\u001b[0m\u001b[0mtext\u001b[0m\u001b[0;34m=\u001b[0m\u001b[0mtext\u001b[0m\u001b[0;34m,\u001b[0m \u001b[0mlanguage_code\u001b[0m\u001b[0;34m=\u001b[0m\u001b[0mlanguage\u001b[0m\u001b[0;34m)\u001b[0m\u001b[0;34m\u001b[0m\u001b[0;34m\u001b[0m\u001b[0m\n\u001b[1;32m      5\u001b[0m     \u001b[0mquery_input\u001b[0m \u001b[0;34m=\u001b[0m \u001b[0mdialogflow\u001b[0m\u001b[0;34m.\u001b[0m\u001b[0mQueryInput\u001b[0m\u001b[0;34m(\u001b[0m\u001b[0mtext\u001b[0m\u001b[0;34m=\u001b[0m\u001b[0mtext_input\u001b[0m\u001b[0;34m)\u001b[0m\u001b[0;34m\u001b[0m\u001b[0;34m\u001b[0m\u001b[0m\n",
      "\u001b[0;32m~/miniconda3/envs/py37/lib/python3.8/site-packages/google/cloud/dialogflow_v2/services/sessions/client.py\u001b[0m in \u001b[0;36m__init__\u001b[0;34m(self, credentials, transport, client_options, client_info)\u001b[0m\n\u001b[1;32m    488\u001b[0m \u001b[0;34m\u001b[0m\u001b[0m\n\u001b[1;32m    489\u001b[0m             \u001b[0mTransport\u001b[0m \u001b[0;34m=\u001b[0m \u001b[0mtype\u001b[0m\u001b[0;34m(\u001b[0m\u001b[0mself\u001b[0m\u001b[0;34m)\u001b[0m\u001b[0;34m.\u001b[0m\u001b[0mget_transport_class\u001b[0m\u001b[0;34m(\u001b[0m\u001b[0mtransport\u001b[0m\u001b[0;34m)\u001b[0m\u001b[0;34m\u001b[0m\u001b[0;34m\u001b[0m\u001b[0m\n\u001b[0;32m--> 490\u001b[0;31m             self._transport = Transport(\n\u001b[0m\u001b[1;32m    491\u001b[0m                 \u001b[0mcredentials\u001b[0m\u001b[0;34m=\u001b[0m\u001b[0mcredentials\u001b[0m\u001b[0;34m,\u001b[0m\u001b[0;34m\u001b[0m\u001b[0;34m\u001b[0m\u001b[0m\n\u001b[1;32m    492\u001b[0m                 \u001b[0mcredentials_file\u001b[0m\u001b[0;34m=\u001b[0m\u001b[0mclient_options\u001b[0m\u001b[0;34m.\u001b[0m\u001b[0mcredentials_file\u001b[0m\u001b[0;34m,\u001b[0m\u001b[0;34m\u001b[0m\u001b[0;34m\u001b[0m\u001b[0m\n",
      "\u001b[0;32m~/miniconda3/envs/py37/lib/python3.8/site-packages/google/cloud/dialogflow_v2/services/sessions/transports/grpc.py\u001b[0m in \u001b[0;36m__init__\u001b[0;34m(self, host, credentials, credentials_file, scopes, channel, api_mtls_endpoint, client_cert_source, ssl_channel_credentials, client_cert_source_for_mtls, quota_project_id, client_info, always_use_jwt_access)\u001b[0m\n\u001b[1;32m    150\u001b[0m \u001b[0;34m\u001b[0m\u001b[0m\n\u001b[1;32m    151\u001b[0m         \u001b[0;31m# The base transport sets the host, credentials and scopes\u001b[0m\u001b[0;34m\u001b[0m\u001b[0;34m\u001b[0m\u001b[0;34m\u001b[0m\u001b[0m\n\u001b[0;32m--> 152\u001b[0;31m         super().__init__(\n\u001b[0m\u001b[1;32m    153\u001b[0m             \u001b[0mhost\u001b[0m\u001b[0;34m=\u001b[0m\u001b[0mhost\u001b[0m\u001b[0;34m,\u001b[0m\u001b[0;34m\u001b[0m\u001b[0;34m\u001b[0m\u001b[0m\n\u001b[1;32m    154\u001b[0m             \u001b[0mcredentials\u001b[0m\u001b[0;34m=\u001b[0m\u001b[0mcredentials\u001b[0m\u001b[0;34m,\u001b[0m\u001b[0;34m\u001b[0m\u001b[0;34m\u001b[0m\u001b[0m\n",
      "\u001b[0;32m~/miniconda3/envs/py37/lib/python3.8/site-packages/google/cloud/dialogflow_v2/services/sessions/transports/base.py\u001b[0m in \u001b[0;36m__init__\u001b[0;34m(self, host, credentials, credentials_file, scopes, quota_project_id, client_info, always_use_jwt_access, **kwargs)\u001b[0m\n\u001b[1;32m    108\u001b[0m             )\n\u001b[1;32m    109\u001b[0m         \u001b[0;32melif\u001b[0m \u001b[0mcredentials\u001b[0m \u001b[0;32mis\u001b[0m \u001b[0;32mNone\u001b[0m\u001b[0;34m:\u001b[0m\u001b[0;34m\u001b[0m\u001b[0;34m\u001b[0m\u001b[0m\n\u001b[0;32m--> 110\u001b[0;31m             credentials, _ = google.auth.default(\n\u001b[0m\u001b[1;32m    111\u001b[0m                 \u001b[0;34m**\u001b[0m\u001b[0mscopes_kwargs\u001b[0m\u001b[0;34m,\u001b[0m \u001b[0mquota_project_id\u001b[0m\u001b[0;34m=\u001b[0m\u001b[0mquota_project_id\u001b[0m\u001b[0;34m\u001b[0m\u001b[0;34m\u001b[0m\u001b[0m\n\u001b[1;32m    112\u001b[0m             )\n",
      "\u001b[0;32m~/miniconda3/envs/py37/lib/python3.8/site-packages/google/auth/_default.py\u001b[0m in \u001b[0;36mdefault\u001b[0;34m(scopes, request, quota_project_id, default_scopes)\u001b[0m\n\u001b[1;32m    605\u001b[0m             \u001b[0;32mreturn\u001b[0m \u001b[0mcredentials\u001b[0m\u001b[0;34m,\u001b[0m \u001b[0meffective_project_id\u001b[0m\u001b[0;34m\u001b[0m\u001b[0;34m\u001b[0m\u001b[0m\n\u001b[1;32m    606\u001b[0m \u001b[0;34m\u001b[0m\u001b[0m\n\u001b[0;32m--> 607\u001b[0;31m     \u001b[0;32mraise\u001b[0m \u001b[0mexceptions\u001b[0m\u001b[0;34m.\u001b[0m\u001b[0mDefaultCredentialsError\u001b[0m\u001b[0;34m(\u001b[0m\u001b[0m_HELP_MESSAGE\u001b[0m\u001b[0;34m)\u001b[0m\u001b[0;34m\u001b[0m\u001b[0;34m\u001b[0m\u001b[0m\n\u001b[0m",
      "\u001b[0;31mDefaultCredentialsError\u001b[0m: Could not automatically determine credentials. Please set GOOGLE_APPLICATION_CREDENTIALS or explicitly create credentials and re-run the application. For more information, please see https://cloud.google.com/docs/authentication/getting-started"
     ]
    }
   ],
   "source": [
    "predict_intent('buy pizza', 'en')"
   ]
  },
  {
   "cell_type": "markdown",
   "metadata": {},
   "source": [
    "JSON TEST"
   ]
  },
  {
   "cell_type": "code",
   "execution_count": 84,
   "metadata": {},
   "outputs": [],
   "source": [
    "dialogflow_response = {\n",
    "\t\"data\": {\n",
    "\t\t\"context\": \"buy_pizza\",\n",
    "\t\t\"df_text_input\": \"extra large\",\n",
    "\t\t\"dialogflow_agent_id\": \"bf83dfc5-434f-469a-890e-6ac3db6e8da3\",\n",
    "\t\t\"dialogflow_project_id\": \"rl-agent-v0-1-myia\",\n",
    "\t\t\"input_text\": \"extra large\",\n",
    "\t\t\"language\": \"en\",\n",
    "\t\t\"manychat_api_key\": \"07029100963432:4bf8fbdfbc5993907ea36dd8ba0c0b0a\",\n",
    "\t\t\"psid\": \"5220826191261652\"\n",
    "\t},\n",
    "\t\"dialogflow_response\": {\n",
    "\t\t\"agentId\": \"bf83dfc5-434f-469a-890e-6ac3db6e8da3\",\n",
    "\t\t\"agentSettings\": {\n",
    "\t\t\t\"enableAgentWideKnowledgeConnector\": True\n",
    "\t\t},\n",
    "\t\t\"queryResult\": {\n",
    "\t\t\t\"fulfillmentMessages\": [\n",
    "\t\t\t\t{\n",
    "\t\t\t\t\t\"text\": {\n",
    "\t\t\t\t\t\t\"text\": [\n",
    "\t\t\t\t\t\t\t\"What is the quantity?\"\n",
    "\t\t\t\t\t\t]\n",
    "\t\t\t\t\t}\n",
    "\t\t\t\t}\n",
    "\t\t\t],\n",
    "\t\t\t\"fulfillmentText\": \"What is the quantity?\",\n",
    "\t\t\t\"intent\": {\n",
    "\t\t\t\t\"displayName\": \"buy_pizza\",\n",
    "\t\t\t\t\"name\": \"projects/rl-agent-v0-1-myia/agent/intents/38769ec7-f652-48ab-b437-06e31e5dd3c8\"\n",
    "\t\t\t},\n",
    "\t\t\t\"languageCode\": \"en\",\n",
    "\t\t\t\"outputContexts\": [\n",
    "\t\t\t\t{\n",
    "\t\t\t\t\t\"lifespanCount\": 2,\n",
    "\t\t\t\t\t\"name\": \"projects/rl-agent-v0-1-myia/agent/sessions/5220826191261652/contexts/38769ec7-f652-48ab-b437-06e31e5dd3c8_id_dialog_context\",\n",
    "\t\t\t\t\t\"parameters\": {\n",
    "\t\t\t\t\t\t\"pizza_size\": \"extra large\",\n",
    "\t\t\t\t\t\t\"pizza_size.original\": \"extra large\",\n",
    "\t\t\t\t\t\t\"quantity\": \"\",\n",
    "\t\t\t\t\t\t\"quantity.original\": \"\",\n",
    "\t\t\t\t\t\t\"topping\": \"cheese\",\n",
    "\t\t\t\t\t\t\"topping.original\": \"cheese\"\n",
    "\t\t\t\t\t}\n",
    "\t\t\t\t},\n",
    "\t\t\t\t{\n",
    "\t\t\t\t\t\"lifespanCount\": 2,\n",
    "\t\t\t\t\t\"name\": \"projects/rl-agent-v0-1-myia/agent/sessions/5220826191261652/contexts/buy_pizza_dialog_context\",\n",
    "\t\t\t\t\t\"parameters\": {\n",
    "\t\t\t\t\t\t\"pizza_size\": \"extra large\",\n",
    "\t\t\t\t\t\t\"pizza_size.original\": \"extra large\",\n",
    "\t\t\t\t\t\t\"quantity\": \"\",\n",
    "\t\t\t\t\t\t\"quantity.original\": \"\",\n",
    "\t\t\t\t\t\t\"topping\": \"cheese\",\n",
    "\t\t\t\t\t\t\"topping.original\": \"cheese\"\n",
    "\t\t\t\t\t}\n",
    "\t\t\t\t},\n",
    "\t\t\t\t{\n",
    "\t\t\t\t\t\"lifespanCount\": 1,\n",
    "\t\t\t\t\t\"name\": \"projects/rl-agent-v0-1-myia/agent/sessions/5220826191261652/contexts/buy_pizza_dialog_params_quantity\",\n",
    "\t\t\t\t\t\"parameters\": {\n",
    "\t\t\t\t\t\t\"pizza_size\": \"extra large\",\n",
    "\t\t\t\t\t\t\"pizza_size.original\": \"extra large\",\n",
    "\t\t\t\t\t\t\"quantity\": \"\",\n",
    "\t\t\t\t\t\t\"quantity.original\": \"\",\n",
    "\t\t\t\t\t\t\"topping\": \"cheese\",\n",
    "\t\t\t\t\t\t\"topping.original\": \"cheese\"\n",
    "\t\t\t\t\t}\n",
    "\t\t\t\t},\n",
    "\t\t\t\t{\n",
    "\t\t\t\t\t\"lifespanCount\": 1,\n",
    "\t\t\t\t\t\"name\": \"projects/rl-agent-v0-1-myia/agent/sessions/5220826191261652/contexts/buy_pizza\",\n",
    "\t\t\t\t\t\"parameters\": {\n",
    "\t\t\t\t\t\t\"pizza_size\": \"extra large\",\n",
    "\t\t\t\t\t\t\"pizza_size.original\": \"extra large\",\n",
    "\t\t\t\t\t\t\"quantity\": \"\",\n",
    "\t\t\t\t\t\t\"quantity.original\": \"\",\n",
    "\t\t\t\t\t\t\"topping\": \"cheese\",\n",
    "\t\t\t\t\t\t\"topping.original\": \"cheese\"\n",
    "\t\t\t\t\t}\n",
    "\t\t\t\t},\n",
    "\t\t\t\t{\n",
    "\t\t\t\t\t\"lifespanCount\": 1,\n",
    "\t\t\t\t\t\"name\": \"projects/rl-agent-v0-1-myia/agent/sessions/5220826191261652/contexts/__system_counters__\",\n",
    "\t\t\t\t\t\"parameters\": {\n",
    "\t\t\t\t\t\t\"no-input\": 0.0,\n",
    "\t\t\t\t\t\t\"no-match\": 0.0,\n",
    "\t\t\t\t\t\t\"pizza_size\": \"extra large\",\n",
    "\t\t\t\t\t\t\"pizza_size.original\": \"extra large\",\n",
    "\t\t\t\t\t\t\"quantity\": \"\",\n",
    "\t\t\t\t\t\t\"quantity.original\": \"\",\n",
    "\t\t\t\t\t\t\"topping\": \"cheese\",\n",
    "\t\t\t\t\t\t\"topping.original\": \"cheese\"\n",
    "\t\t\t\t\t}\n",
    "\t\t\t\t}\n",
    "\t\t\t],\n",
    "\t\t\t\"parameters\": {\n",
    "\t\t\t\t\"pizza_size\": \"extra large\",\n",
    "\t\t\t\t\"quantity\": \"\",\n",
    "\t\t\t\t\"topping\": \"cheese\"\n",
    "\t\t\t},\n",
    "\t\t\t\"queryText\": \"extra large\"\n",
    "\t\t},\n",
    "\t\t\"responseId\": \"6f12fba2-b5f8-43ed-9749-27cf3023d984-36f35620\"\n",
    "\t},\n",
    "\t\"status\": \"success\"\n",
    "}"
   ]
  },
  {
   "cell_type": "code",
   "execution_count": 108,
   "metadata": {},
   "outputs": [
    {
     "data": {
      "text/plain": [
       "dict_keys(['fulfillmentMessages', 'fulfillmentText', 'intent', 'languageCode', 'outputContexts', 'parameters', 'queryText'])"
      ]
     },
     "execution_count": 108,
     "metadata": {},
     "output_type": "execute_result"
    }
   ],
   "source": [
    "dialogflow_response['dialogflow_response']['queryResult'].keys()"
   ]
  },
  {
   "cell_type": "code",
   "execution_count": 138,
   "metadata": {},
   "outputs": [
    {
     "data": {
      "text/plain": [
       "dict_keys(['fulfillmentMessages', 'fulfillmentText', 'intent', 'languageCode', 'outputContexts', 'parameters', 'queryText'])"
      ]
     },
     "execution_count": 138,
     "metadata": {},
     "output_type": "execute_result"
    }
   ],
   "source": [
    "dialogflow_response['dialogflow_response']['queryResult'].keys()"
   ]
  },
  {
   "cell_type": "code",
   "execution_count": 103,
   "metadata": {},
   "outputs": [
    {
     "name": "stdout",
     "output_type": "stream",
     "text": [
      "yay\n"
     ]
    }
   ],
   "source": [
    "if len(dialogflow_response['dialogflow_response']['queryResult']['parameters']) !=0:\n",
    "    print('yay')\n",
    "else:\n",
    "    print('nay')"
   ]
  },
  {
   "cell_type": "code",
   "execution_count": 104,
   "metadata": {},
   "outputs": [
    {
     "name": "stdout",
     "output_type": "stream",
     "text": [
      "pizza_size\n",
      "quantity\n",
      "topping\n"
     ]
    }
   ],
   "source": [
    "for param in dialogflow_response['dialogflow_response']['queryResult']['parameters']:\n",
    "    print(param)"
   ]
  },
  {
   "cell_type": "code",
   "execution_count": 122,
   "metadata": {},
   "outputs": [
    {
     "data": {
      "text/plain": [
       "{'agentId': 'bf83dfc5-434f-469a-890e-6ac3db6e8da3',\n",
       " 'agentSettings': {'enableAgentWideKnowledgeConnector': True},\n",
       " 'queryResult': {'fulfillmentMessages': [{'text': {'text': ['What is the quantity?']}}],\n",
       "  'fulfillmentText': 'What is the quantity?',\n",
       "  'intent': {'displayName': 'buy_pizza',\n",
       "   'name': 'projects/rl-agent-v0-1-myia/agent/intents/38769ec7-f652-48ab-b437-06e31e5dd3c8'},\n",
       "  'languageCode': 'en',\n",
       "  'outputContexts': [{'lifespanCount': 2,\n",
       "    'name': 'projects/rl-agent-v0-1-myia/agent/sessions/5220826191261652/contexts/38769ec7-f652-48ab-b437-06e31e5dd3c8_id_dialog_context',\n",
       "    'parameters': {'pizza_size': 'extra large',\n",
       "     'pizza_size.original': 'extra large',\n",
       "     'quantity': '',\n",
       "     'quantity.original': '',\n",
       "     'topping': 'cheese',\n",
       "     'topping.original': 'cheese'}},\n",
       "   {'lifespanCount': 2,\n",
       "    'name': 'projects/rl-agent-v0-1-myia/agent/sessions/5220826191261652/contexts/buy_pizza_dialog_context',\n",
       "    'parameters': {'pizza_size': 'extra large',\n",
       "     'pizza_size.original': 'extra large',\n",
       "     'quantity': '',\n",
       "     'quantity.original': '',\n",
       "     'topping': 'cheese',\n",
       "     'topping.original': 'cheese'}},\n",
       "   {'lifespanCount': 1,\n",
       "    'name': 'projects/rl-agent-v0-1-myia/agent/sessions/5220826191261652/contexts/buy_pizza_dialog_params_quantity',\n",
       "    'parameters': {'pizza_size': 'extra large',\n",
       "     'pizza_size.original': 'extra large',\n",
       "     'quantity': '',\n",
       "     'quantity.original': '',\n",
       "     'topping': 'cheese',\n",
       "     'topping.original': 'cheese'}},\n",
       "   {'lifespanCount': 1,\n",
       "    'name': 'projects/rl-agent-v0-1-myia/agent/sessions/5220826191261652/contexts/buy_pizza',\n",
       "    'parameters': {'pizza_size': 'extra large',\n",
       "     'pizza_size.original': 'extra large',\n",
       "     'quantity': '',\n",
       "     'quantity.original': '',\n",
       "     'topping': 'cheese',\n",
       "     'topping.original': 'cheese'}},\n",
       "   {'lifespanCount': 1,\n",
       "    'name': 'projects/rl-agent-v0-1-myia/agent/sessions/5220826191261652/contexts/__system_counters__',\n",
       "    'parameters': {'no-input': 0.0,\n",
       "     'no-match': 0.0,\n",
       "     'pizza_size': 'extra large',\n",
       "     'pizza_size.original': 'extra large',\n",
       "     'quantity': '',\n",
       "     'quantity.original': '',\n",
       "     'topping': 'cheese',\n",
       "     'topping.original': 'cheese'}}],\n",
       "  'parameters': {'pizza_size': 'extra large',\n",
       "   'quantity': '',\n",
       "   'topping': 'cheese'},\n",
       "  'queryText': 'extra large'},\n",
       " 'responseId': '6f12fba2-b5f8-43ed-9749-27cf3023d984-36f35620'}"
      ]
     },
     "execution_count": 122,
     "metadata": {},
     "output_type": "execute_result"
    }
   ],
   "source": [
    "dialogflow_response['dialogflow_response']"
   ]
  },
  {
   "cell_type": "code",
   "execution_count": 132,
   "metadata": {},
   "outputs": [
    {
     "ename": "AttributeError",
     "evalue": "'str' object has no attribute 'items'",
     "output_type": "error",
     "traceback": [
      "\u001b[0;31m---------------------------------------------------------------------------\u001b[0m",
      "\u001b[0;31mAttributeError\u001b[0m                            Traceback (most recent call last)",
      "\u001b[0;32m/var/folders/w0/z07p93y54bz2zqjzp7v4v4nm0000gn/T/ipykernel_2573/218418223.py\u001b[0m in \u001b[0;36m<module>\u001b[0;34m\u001b[0m\n\u001b[1;32m      1\u001b[0m \u001b[0;32mif\u001b[0m \u001b[0mdialogflow_response\u001b[0m\u001b[0;34m[\u001b[0m\u001b[0;34m'dialogflow_response'\u001b[0m\u001b[0;34m]\u001b[0m\u001b[0;34m[\u001b[0m\u001b[0;34m'queryResult'\u001b[0m\u001b[0;34m]\u001b[0m\u001b[0;34m[\u001b[0m\u001b[0;34m'parameters'\u001b[0m\u001b[0;34m]\u001b[0m\u001b[0;34m:\u001b[0m\u001b[0;34m\u001b[0m\u001b[0;34m\u001b[0m\u001b[0m\n\u001b[1;32m      2\u001b[0m     \u001b[0;32mfor\u001b[0m \u001b[0mparam\u001b[0m \u001b[0;32min\u001b[0m \u001b[0mdialogflow_response\u001b[0m\u001b[0;34m[\u001b[0m\u001b[0;34m'dialogflow_response'\u001b[0m\u001b[0;34m]\u001b[0m\u001b[0;34m[\u001b[0m\u001b[0;34m'queryResult'\u001b[0m\u001b[0;34m]\u001b[0m\u001b[0;34m[\u001b[0m\u001b[0;34m'parameters'\u001b[0m\u001b[0;34m]\u001b[0m\u001b[0;34m:\u001b[0m\u001b[0;34m\u001b[0m\u001b[0;34m\u001b[0m\u001b[0m\n\u001b[0;32m----> 3\u001b[0;31m         \u001b[0;32mfor\u001b[0m \u001b[0mkey\u001b[0m\u001b[0;34m,\u001b[0m \u001b[0mvalue\u001b[0m \u001b[0;32min\u001b[0m \u001b[0mparam\u001b[0m\u001b[0;34m.\u001b[0m\u001b[0mitems\u001b[0m\u001b[0;34m(\u001b[0m\u001b[0;34m)\u001b[0m\u001b[0;34m:\u001b[0m\u001b[0;34m\u001b[0m\u001b[0;34m\u001b[0m\u001b[0m\n\u001b[0m\u001b[1;32m      4\u001b[0m             \u001b[0;32mif\u001b[0m \u001b[0mvalue\u001b[0m \u001b[0;32mand\u001b[0m \u001b[0mvalue\u001b[0m \u001b[0;34m!=\u001b[0m \u001b[0;34m''\u001b[0m\u001b[0;34m:\u001b[0m\u001b[0;34m\u001b[0m\u001b[0;34m\u001b[0m\u001b[0m\n\u001b[1;32m      5\u001b[0m                 \u001b[0mprint\u001b[0m\u001b[0;34m(\u001b[0m\u001b[0;34m'key, value'\u001b[0m\u001b[0;34m)\u001b[0m\u001b[0;34m\u001b[0m\u001b[0;34m\u001b[0m\u001b[0m\n",
      "\u001b[0;31mAttributeError\u001b[0m: 'str' object has no attribute 'items'"
     ]
    }
   ],
   "source": [
    "if dialogflow_response['dialogflow_response']['queryResult']['parameters']:\n",
    "    for param in dialogflow_response['dialogflow_response']['queryResult']['parameters']:\n",
    "        for key, value in param.items() :  \n",
    "            if value and value != '':\n",
    "                print('key, value')"
   ]
  },
  {
   "cell_type": "code",
   "execution_count": null,
   "metadata": {},
   "outputs": [],
   "source": []
  }
 ],
 "metadata": {
  "kernelspec": {
   "display_name": "Python 3.8.0 ('py37')",
   "language": "python",
   "name": "python3"
  },
  "language_info": {
   "codemirror_mode": {
    "name": "ipython",
    "version": 3
   },
   "file_extension": ".py",
   "mimetype": "text/x-python",
   "name": "python",
   "nbconvert_exporter": "python",
   "pygments_lexer": "ipython3",
   "version": "3.8.0"
  },
  "orig_nbformat": 4,
  "vscode": {
   "interpreter": {
    "hash": "d79b6e6e52702b4787212692ca2d8a248e0ebb1584332e2007ba7604dedd8897"
   }
  }
 },
 "nbformat": 4,
 "nbformat_minor": 2
}
