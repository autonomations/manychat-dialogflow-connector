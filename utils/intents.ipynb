{
 "cells": [
  {
   "cell_type": "code",
   "execution_count": 1,
   "metadata": {},
   "outputs": [
    {
     "name": "stderr",
     "output_type": "stream",
     "text": [
      "usage: ipykernel_launcher.py [-h] --project-id PROJECT_ID\n",
      "                             [--session-id SESSION_ID]\n",
      "                             [--language-code LANGUAGE_CODE]\n",
      "                             texts [texts ...]\n",
      "ipykernel_launcher.py: error: the following arguments are required: --project-id, texts\n"
     ]
    },
    {
     "ename": "SystemExit",
     "evalue": "2",
     "output_type": "error",
     "traceback": [
      "An exception has occurred, use %tb to see the full traceback.\n",
      "\u001b[0;31mSystemExit\u001b[0m\u001b[0;31m:\u001b[0m 2\n"
     ]
    },
    {
     "name": "stderr",
     "output_type": "stream",
     "text": [
      "/Users/kbselander/miniconda3/envs/py37/lib/python3.8/site-packages/IPython/core/interactiveshell.py:3465: UserWarning: To exit: use 'exit', 'quit', or Ctrl-D.\n",
      "  warn(\"To exit: use 'exit', 'quit', or Ctrl-D.\", stacklevel=1)\n"
     ]
    }
   ],
   "source": [
    "#!/usr/bin/env python\n",
    "\n",
    "# Copyright 2017 Google LLC\n",
    "#\n",
    "# Licensed under the Apache License, Version 2.0 (the \"License\");\n",
    "# you may not use this file except in compliance with the License.\n",
    "# You may obtain a copy of the License at\n",
    "#\n",
    "#      http://www.apache.org/licenses/LICENSE-2.0\n",
    "#\n",
    "# Unless required by applicable law or agreed to in writing, software\n",
    "# distributed under the License is distributed on an \"AS IS\" BASIS,\n",
    "# WITHOUT WARRANTIES OR CONDITIONS OF ANY KIND, either express or implied.\n",
    "# See the License for the specific language governing permissions and\n",
    "# limitations under the License.\n",
    "\n",
    "\"\"\"DialogFlow API Detect Intent Python sample with text inputs.\n",
    "\n",
    "Examples:\n",
    "  python detect_intent_texts.py -h\n",
    "  python detect_intent_texts.py --project-id PROJECT_ID \\\n",
    "  --session-id SESSION_ID \\\n",
    "  \"hello\" \"book a meeting room\" \"Mountain View\"\n",
    "  python detect_intent_texts.py --project-id PROJECT_ID \\\n",
    "  --session-id SESSION_ID \\\n",
    "  \"tomorrow\" \"10 AM\" \"2 hours\" \"10 people\" \"A\" \"yes\"\n",
    "\"\"\"\n",
    "\n",
    "import argparse\n",
    "import uuid\n",
    "\n",
    "\n",
    "# [START dialogflow_detect_intent_text]\n",
    "def detect_intent_texts(project_id, session_id, texts, language_code):\n",
    "    \"\"\"Returns the result of detect intent with texts as inputs.\n",
    "\n",
    "    Using the same `session_id` between requests allows continuation\n",
    "    of the conversation.\"\"\"\n",
    "    from google.cloud import dialogflow\n",
    "\n",
    "    session_client = dialogflow.SessionsClient()\n",
    "\n",
    "    session = session_client.session_path(project_id, session_id)\n",
    "    print(\"Session path: {}\\n\".format(session))\n",
    "\n",
    "    for text in texts:\n",
    "        text_input = dialogflow.TextInput(text=text, language_code=language_code)\n",
    "\n",
    "        query_input = dialogflow.QueryInput(text=text_input)\n",
    "\n",
    "        response = session_client.detect_intent(\n",
    "            request={\"session\": session, \"query_input\": query_input}\n",
    "        )\n",
    "\n",
    "        print(\"=\" * 20)\n",
    "        print(\"Query text: {}\".format(response.query_result.query_text))\n",
    "        print(\n",
    "            \"Detected intent: {} (confidence: {})\\n\".format(\n",
    "                response.query_result.intent.display_name,\n",
    "                response.query_result.intent_detection_confidence,\n",
    "            )\n",
    "        )\n",
    "        print(\"Fulfillment text: {}\\n\".format(response.query_result.fulfillment_text))\n",
    "\n",
    "\n",
    "# [END dialogflow_detect_intent_text]\n",
    "\n",
    "\n",
    "if __name__ == \"__main__\":\n",
    "    parser = argparse.ArgumentParser(\n",
    "        description=__doc__, formatter_class=argparse.RawDescriptionHelpFormatter\n",
    "    )\n",
    "    parser.add_argument(\n",
    "        \"--project-id\", help=\"Project/agent id.  Required.\", required=True\n",
    "    )\n",
    "    parser.add_argument(\n",
    "        \"--session-id\",\n",
    "        help=\"Identifier of the DetectIntent session. \" \"Defaults to a random UUID.\",\n",
    "        default=str(uuid.uuid4()),\n",
    "    )\n",
    "    parser.add_argument(\n",
    "        \"--language-code\",\n",
    "        help='Language code of the query. Defaults to \"en-US\".',\n",
    "        default=\"en-US\",\n",
    "    )\n",
    "    parser.add_argument(\"texts\", nargs=\"+\", type=str, help=\"Text inputs.\")\n",
    "\n",
    "    args = parser.parse_args()\n",
    "\n",
    "    detect_intent_texts(\n",
    "        args.project_id, args.session_id, args.texts, args.language_code\n",
    "    )"
   ]
  },
  {
   "cell_type": "code",
   "execution_count": null,
   "metadata": {},
   "outputs": [],
   "source": [
    "import manychat_helpers, dialogflow_helpers\n",
    "import json\n",
    "import requests"
   ]
  },
  {
   "cell_type": "code",
   "execution_count": null,
   "metadata": {},
   "outputs": [],
   "source": [
    "base_url = 'https://dialogflow.cloud.google.com/v1/integrations/messenger/webhook'\n",
    "\n",
    "api_key = '107029100963432:4bf8fbdfbc5993907ea36dd8ba0c0b0a'\n",
    "psid    = '5220826191261652'\n",
    "project_id = 'rl-agent-v0-1-myia',\n",
    "agent_id= \"bf83dfc5-434f-469a-890e-6ac3db6e8da3\"\n",
    "\n",
    "input_text = \"buy pizza\"\n",
    "context    = 'buy_pizza'\n",
    "language   = 'English'\n",
    "language_code = 'en'\n",
    "\n",
    "mc = manychat_helpers.ManyChatAPI(\n",
    "    api_key = \"https://api.manychat.com\"\n",
    "    psid    = psid\n",
    ")"
   ]
  }
 ],
 "metadata": {
  "kernelspec": {
   "display_name": "Python 3.8.0 ('py37')",
   "language": "python",
   "name": "python3"
  },
  "language_info": {
   "codemirror_mode": {
    "name": "ipython",
    "version": 3
   },
   "file_extension": ".py",
   "mimetype": "text/x-python",
   "name": "python",
   "nbconvert_exporter": "python",
   "pygments_lexer": "ipython3",
   "version": "3.8.0"
  },
  "orig_nbformat": 4,
  "vscode": {
   "interpreter": {
    "hash": "d79b6e6e52702b4787212692ca2d8a248e0ebb1584332e2007ba7604dedd8897"
   }
  }
 },
 "nbformat": 4,
 "nbformat_minor": 2
}
